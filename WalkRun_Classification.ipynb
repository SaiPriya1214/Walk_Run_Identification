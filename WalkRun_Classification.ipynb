{
 "cells": [
  {
   "cell_type": "markdown",
   "id": "71dbe8a7",
   "metadata": {},
   "source": [
    "<div style=\"text-align:center; font-family: Times New Roman, serif;\">\n",
    "  <span style=\"background-color:Teal; color:WHITE; font-family: Times New Roman, serif; font-weight: bold; padding: 60px; height: 50px;\">\n",
    "    <span class=\"cm-header cm-header-1\">WALK RUN CLASSIFICATION</span>\n",
    "  </span>\n",
    "</div>\n"
   ]
  },
  {
   "cell_type": "markdown",
   "id": "94a37f96",
   "metadata": {},
   "source": [
    "<span style=\"color:blue\">\n",
    "<span class=\"cm-header cm-header-2\">\n",
    "Using motion sensors data, predict whether a person is walking or running.</span>"
   ]
  },
  {
   "cell_type": "markdown",
   "id": "7e2e8ce4",
   "metadata": {},
   "source": [
    "<div style=\"font-family: Calibri; font-size: 14pt; line-height: 1.5;\"\">\n",
    "                                                                      \n",
    "Using multiple python-based ML and data science libraries,we identified a suitable model to predict whether the person is running or walking\n",
    "<br>\n",
    "<br>\n",
    "<div style=\"font-family: Calibri; font-size: 16pt;\">\n",
    "The following pipeline is followed:\n",
    "<br>\n",
    "<span style=\"font-family: Calibri; font-weight: bold; font-size: 14pt;\">\n",
    "    1. Problem Statement<br>\n",
    "    2. Data<br>\n",
    "    3. Evaluation Metrics<br>\n",
    "    4. Domain Analysis<br>\n",
    "    5. EDA<br>\n",
    "    6. Data Pre-Processing<br>\n",
    "    7. Modelling<br>\n",
    "    8. Model Comparison Report<br>\n",
    "    9. Report on challanges faced<br>\n",
    "   10. Conclusion</span>\n",
    "\n",
    "</div>\n",
    "<br>\n",
    "<br>"
   ]
  },
  {
   "cell_type": "markdown",
   "id": "fdf9fc8d",
   "metadata": {},
   "source": [
    "<span style=\"color:Green\">\n",
    "<span class=\"cm-header cm-header-2\">\n",
    "1. Problem Statement\n"
   ]
  },
  {
   "cell_type": "markdown",
   "id": "56811860",
   "metadata": {},
   "source": [
    "<div style=\"font-family: Calibri; font-size: 14pt; line-height: 1.5;\"\">\n",
    "Task 1:-Prepare a complete data analysis report on the given data.</br>\n",
    "Task 2:-Create a predictive model to classify whether a person is running or walking based on the given predictor variables.<br>\n",
    "                                                                      </div>\n"
   ]
  },
  {
   "cell_type": "markdown",
   "id": "707095b5",
   "metadata": {},
   "source": [
    "<span style=\"color:Green\">\n",
    "<span class=\"cm-header cm-header-2\">\n",
    "2. Dataset\n"
   ]
  },
  {
   "cell_type": "markdown",
   "id": "6919f7f9",
   "metadata": {},
   "source": [
    "<div style=\"font-family: Calibri; font-size: 14pt; line-height: 1.5;\"\">\n",
    "This dataset is taken from kaggle.<br>\n",
    "\n"
   ]
  },
  {
   "cell_type": "markdown",
   "id": "d66c204f",
   "metadata": {},
   "source": [
    "<span style=\"color:Green\">\n",
    "<span class=\"cm-header cm-header-2\">\n",
    "3. Evaluation Metrics\n"
   ]
  },
  {
   "cell_type": "markdown",
   "id": "62c9324d",
   "metadata": {},
   "source": [
    "<div style=\"font-family: Calibri; font-size: 14pt; line-height: 1.5;\"\">\n",
    "\n",
    "-  By looking at the activity column, we understand that the project falls in  binary classification type.<br>\n",
    "-  activity column is having two unique values i.e., 0 & 1, considering <u>running as \"1\"</u> and <u>walking as \"0\"</u>.<br>\n",
    "-  For classification problems, we use different metrics such as <u>Accuracy, Precision, Recall, F1 score, ROC-AUC score</u>, etc. Many metrics are based on the Confusion Matrix, since it encloses all the relevant information about the algorithm and classification rule performance.<br>\n",
    "-  For this dataset we need to predict whether a person is walking or running, we will primarily look at <span style=\"background-color: yellow;\">\"Accuracy score\"</span> in this case.<br>\n",
    "                                                                      "
   ]
  },
  {
   "cell_type": "markdown",
   "id": "b15c090b",
   "metadata": {},
   "source": [
    "<span style=\"color:Green\">\n",
    "<span class=\"cm-header cm-header-2\">\n",
    "4. Domain Analysis\n"
   ]
  },
  {
   "cell_type": "markdown",
   "id": "cf520457",
   "metadata": {},
   "source": [
    "<div style=\"font-family: Calibri; font-size: 14pt; line-height: 1.0;\"\">\n",
    "\n",
    "-  Various features will be identified and detailed\n",
    "-  The dataset comprises the readings of motion sensors recorded while users executed typical daily activities. The detailed format is described in the package. The attributes correspond to raw sensor readings. There are a total of 11 attributes. "
   ]
  },
  {
   "cell_type": "markdown",
   "id": "2cd0f7c6",
   "metadata": {},
   "source": [
    "<div style=\"font-family: Calibri; font-size: 14pt; line-height: 1.5;\"\">\n",
    "  1. date - date represents records collected from Jun-30, 2017 to July-17, 2017.<br>\n",
    "  2. time - time represents the frequency of sensors data recorded.<br>\n",
    "  3. username - refers to the different users whose data was collected. For current dataset, we have only one user \"viktor\".<br>\n",
    "  4. wrist - refers to the hand on which the device was worn while recording, it can take only two values i.e., 0 for \"left\" and 1 for \"right\".<br>\n",
    "  5. activity - refers to the physical activity being performed during recording, 0 for \"walk\" and 1 for \"run\".<br>\n",
    "  6. acceleration_x - typically refers to the acceleration of an object in the x-axis direction (horizontal axis) as it moves. In the context of walk run classification, acceleration_x can be used to measure the acceleration of a person's body in the horizontal direction while they are walking or running.<br>\n",
    "  7. acceleration_y - typically refers to the acceleration of an object in the y-axis direction (vertical axis) as it moves. In the context of walk run classification, acceleration_y can be used to measure the acceleration of a person's body in the vertical direction while they are walking or running.<br>\n",
    "  8. acceleration_z - typically refers to the acceleration of an object in the z-axis direction (perpendicular to the ground) as it moves. In the context of walk run classification, acceleration_z can be used to measure the acceleration of a person's body in the forward-backward direction while they are walking or running.<br>                                                                  \n",
    "  9. gyro_x -  typically refers to the angular velocity of an object around the x-axis (horizontal axis) as it moves. In the context of walk run classification, gyro_x can be used to measure the rotational motion of a person's body in the horizontal direction while they are walking or running.<br>                                                             \n",
    " 10. gyro_y -  typically refers to the angular velocity of an object around the y-axis (vertical axis) as it moves. In the context of walk run classification, gyro_y can be used to measure the rotational motion of a person's body in the vertical direction while they are walking or running.<br>\n",
    " 11. gyro_z -  typically refers to the angular velocity of an object around the z-axis (perpendicular to the ground) as it moves. In the context of walk run classification, gyro_z can be used to measure the rotational motion of a person's body in the forward-backward direction while they are walking or running.<br>                                                                  "
   ]
  },
  {
   "cell_type": "markdown",
   "id": "026f2ac2",
   "metadata": {},
   "source": [
    "<span style=\"color:Maroon\">\n",
    "<span class=\"cm-header cm-header-2\">\n",
    "Preparing the Tools\n"
   ]
  },
  {
   "cell_type": "markdown",
   "id": "8c6a6c60",
   "metadata": {},
   "source": [
    "<div style=\"font-family: Calibri; font-size: 14pt; line-height: 1.0;\"\">\n",
    "-  we're going to use several libraries to build our model, some of them are listed below:\n"
   ]
  },
  {
   "cell_type": "code",
   "execution_count": 1,
   "id": "64a29d24",
   "metadata": {},
   "outputs": [],
   "source": [
    "#basics libraries\n",
    "import numpy as np\n",
    "import pandas as pd\n",
    "from scipy import stats\n",
    "\n",
    "#visualisation libraries\n",
    "import matplotlib.pyplot as plt\n",
    "import seaborn as sns\n",
    "\n",
    "\n",
    "#data preprocessing\n",
    "from sklearn. model_selection import train_test_split\n",
    "from imblearn.under_sampling import RandomUnderSampler\n",
    "from sklearn.preprocessing import StandardScaler\n",
    "\n",
    "\n",
    "#model development\n",
    "from sklearn.linear_model import LogisticRegression\n",
    "from sklearn.tree import DecisionTreeClassifier\n",
    "from sklearn.neighbors import KNeighborsClassifier\n",
    "from xgboost import XGBClassifier\n",
    "from sklearn.ensemble import RandomForestClassifier\n",
    "from sklearn.ensemble import AdaBoostClassifier\n",
    "\n",
    "#performance metrics\n",
    "from sklearn.metrics import accuracy_score\n",
    "from sklearn.model_selection import cross_val_score\n",
    "from sklearn.metrics import recall_score,precision_score,f1_score,roc_auc_score,roc_curve,confusion_matrix,classification_report\n",
    "\n",
    "\n",
    "#hyperparameter tuning\n",
    "from sklearn.model_selection import RandomizedSearchCV\n",
    "\n",
    "#warnings\n",
    "import warnings\n",
    "warnings.filterwarnings('ignore')\n"
   ]
  },
  {
   "cell_type": "code",
   "execution_count": 2,
   "id": "fe6595c7",
   "metadata": {
    "scrolled": true
   },
   "outputs": [],
   "source": [
    "# Importing Data\n",
    "data=pd.read_csv('walkrun.csv')"
   ]
  },
  {
   "cell_type": "markdown",
   "id": "bae5c5e1",
   "metadata": {},
   "source": [
    "<span style=\"color:Maroon\">\n",
    "<span class=\"cm-header cm-header-2\">\n",
    "Basic Checks"
   ]
  },
  {
   "cell_type": "code",
   "execution_count": 3,
   "id": "a1dd281a",
   "metadata": {},
   "outputs": [
    {
     "data": {
      "text/html": [
       "<div>\n",
       "<style scoped>\n",
       "    .dataframe tbody tr th:only-of-type {\n",
       "        vertical-align: middle;\n",
       "    }\n",
       "\n",
       "    .dataframe tbody tr th {\n",
       "        vertical-align: top;\n",
       "    }\n",
       "\n",
       "    .dataframe thead th {\n",
       "        text-align: right;\n",
       "    }\n",
       "</style>\n",
       "<table border=\"1\" class=\"dataframe\">\n",
       "  <thead>\n",
       "    <tr style=\"text-align: right;\">\n",
       "      <th></th>\n",
       "      <th>date</th>\n",
       "      <th>time</th>\n",
       "      <th>username</th>\n",
       "      <th>wrist</th>\n",
       "      <th>activity</th>\n",
       "      <th>acceleration_x</th>\n",
       "      <th>acceleration_y</th>\n",
       "      <th>acceleration_z</th>\n",
       "      <th>gyro_x</th>\n",
       "      <th>gyro_y</th>\n",
       "      <th>gyro_z</th>\n",
       "    </tr>\n",
       "  </thead>\n",
       "  <tbody>\n",
       "    <tr>\n",
       "      <th>0</th>\n",
       "      <td>2017-6-30</td>\n",
       "      <td>13:51:15:847724020</td>\n",
       "      <td>viktor</td>\n",
       "      <td>0</td>\n",
       "      <td>0</td>\n",
       "      <td>0.2650</td>\n",
       "      <td>-0.7814</td>\n",
       "      <td>-0.0076</td>\n",
       "      <td>-0.0590</td>\n",
       "      <td>0.0325</td>\n",
       "      <td>-2.9296</td>\n",
       "    </tr>\n",
       "    <tr>\n",
       "      <th>1</th>\n",
       "      <td>2017-6-30</td>\n",
       "      <td>13:51:16:246945023</td>\n",
       "      <td>viktor</td>\n",
       "      <td>0</td>\n",
       "      <td>0</td>\n",
       "      <td>0.6722</td>\n",
       "      <td>-1.1233</td>\n",
       "      <td>-0.2344</td>\n",
       "      <td>-0.1757</td>\n",
       "      <td>0.0208</td>\n",
       "      <td>0.1269</td>\n",
       "    </tr>\n",
       "    <tr>\n",
       "      <th>2</th>\n",
       "      <td>2017-6-30</td>\n",
       "      <td>13:51:16:446233987</td>\n",
       "      <td>viktor</td>\n",
       "      <td>0</td>\n",
       "      <td>0</td>\n",
       "      <td>0.4399</td>\n",
       "      <td>-1.4817</td>\n",
       "      <td>0.0722</td>\n",
       "      <td>-0.9105</td>\n",
       "      <td>0.1063</td>\n",
       "      <td>-2.4367</td>\n",
       "    </tr>\n",
       "    <tr>\n",
       "      <th>3</th>\n",
       "      <td>2017-6-30</td>\n",
       "      <td>13:51:16:646117985</td>\n",
       "      <td>viktor</td>\n",
       "      <td>0</td>\n",
       "      <td>0</td>\n",
       "      <td>0.3031</td>\n",
       "      <td>-0.8125</td>\n",
       "      <td>0.0888</td>\n",
       "      <td>0.1199</td>\n",
       "      <td>-0.4099</td>\n",
       "      <td>-2.9336</td>\n",
       "    </tr>\n",
       "    <tr>\n",
       "      <th>4</th>\n",
       "      <td>2017-6-30</td>\n",
       "      <td>13:51:16:846738994</td>\n",
       "      <td>viktor</td>\n",
       "      <td>0</td>\n",
       "      <td>0</td>\n",
       "      <td>0.4814</td>\n",
       "      <td>-0.9312</td>\n",
       "      <td>0.0359</td>\n",
       "      <td>0.0527</td>\n",
       "      <td>0.4379</td>\n",
       "      <td>2.4922</td>\n",
       "    </tr>\n",
       "  </tbody>\n",
       "</table>\n",
       "</div>"
      ],
      "text/plain": [
       "        date                time username  wrist  activity  acceleration_x  \\\n",
       "0  2017-6-30  13:51:15:847724020   viktor      0         0          0.2650   \n",
       "1  2017-6-30  13:51:16:246945023   viktor      0         0          0.6722   \n",
       "2  2017-6-30  13:51:16:446233987   viktor      0         0          0.4399   \n",
       "3  2017-6-30  13:51:16:646117985   viktor      0         0          0.3031   \n",
       "4  2017-6-30  13:51:16:846738994   viktor      0         0          0.4814   \n",
       "\n",
       "   acceleration_y  acceleration_z  gyro_x  gyro_y  gyro_z  \n",
       "0         -0.7814         -0.0076 -0.0590  0.0325 -2.9296  \n",
       "1         -1.1233         -0.2344 -0.1757  0.0208  0.1269  \n",
       "2         -1.4817          0.0722 -0.9105  0.1063 -2.4367  \n",
       "3         -0.8125          0.0888  0.1199 -0.4099 -2.9336  \n",
       "4         -0.9312          0.0359  0.0527  0.4379  2.4922  "
      ]
     },
     "execution_count": 3,
     "metadata": {},
     "output_type": "execute_result"
    }
   ],
   "source": [
    "data.head()"
   ]
  },
  {
   "cell_type": "code",
   "execution_count": 4,
   "id": "f1c9a29c",
   "metadata": {},
   "outputs": [
    {
     "data": {
      "text/html": [
       "<div>\n",
       "<style scoped>\n",
       "    .dataframe tbody tr th:only-of-type {\n",
       "        vertical-align: middle;\n",
       "    }\n",
       "\n",
       "    .dataframe tbody tr th {\n",
       "        vertical-align: top;\n",
       "    }\n",
       "\n",
       "    .dataframe thead th {\n",
       "        text-align: right;\n",
       "    }\n",
       "</style>\n",
       "<table border=\"1\" class=\"dataframe\">\n",
       "  <thead>\n",
       "    <tr style=\"text-align: right;\">\n",
       "      <th></th>\n",
       "      <th>date</th>\n",
       "      <th>time</th>\n",
       "      <th>username</th>\n",
       "      <th>wrist</th>\n",
       "      <th>activity</th>\n",
       "      <th>acceleration_x</th>\n",
       "      <th>acceleration_y</th>\n",
       "      <th>acceleration_z</th>\n",
       "      <th>gyro_x</th>\n",
       "      <th>gyro_y</th>\n",
       "      <th>gyro_z</th>\n",
       "    </tr>\n",
       "  </thead>\n",
       "  <tbody>\n",
       "    <tr>\n",
       "      <th>88583</th>\n",
       "      <td>2017-7-9</td>\n",
       "      <td>20:9:15:317911028</td>\n",
       "      <td>viktor</td>\n",
       "      <td>0</td>\n",
       "      <td>0</td>\n",
       "      <td>0.3084</td>\n",
       "      <td>-0.8376</td>\n",
       "      <td>-0.1327</td>\n",
       "      <td>0.4823</td>\n",
       "      <td>2.0124</td>\n",
       "      <td>0.6048</td>\n",
       "    </tr>\n",
       "    <tr>\n",
       "      <th>88584</th>\n",
       "      <td>2017-7-9</td>\n",
       "      <td>20:9:15:517889022</td>\n",
       "      <td>viktor</td>\n",
       "      <td>0</td>\n",
       "      <td>0</td>\n",
       "      <td>0.4977</td>\n",
       "      <td>-1.0027</td>\n",
       "      <td>-0.4397</td>\n",
       "      <td>0.1022</td>\n",
       "      <td>-1.2565</td>\n",
       "      <td>-0.0761</td>\n",
       "    </tr>\n",
       "    <tr>\n",
       "      <th>88585</th>\n",
       "      <td>2017-7-9</td>\n",
       "      <td>20:9:15:717828989</td>\n",
       "      <td>viktor</td>\n",
       "      <td>0</td>\n",
       "      <td>0</td>\n",
       "      <td>0.4587</td>\n",
       "      <td>-1.1780</td>\n",
       "      <td>-0.2827</td>\n",
       "      <td>-1.4500</td>\n",
       "      <td>-0.2792</td>\n",
       "      <td>-1.2616</td>\n",
       "    </tr>\n",
       "    <tr>\n",
       "      <th>88586</th>\n",
       "      <td>2017-7-9</td>\n",
       "      <td>20:9:15:917932987</td>\n",
       "      <td>viktor</td>\n",
       "      <td>0</td>\n",
       "      <td>0</td>\n",
       "      <td>0.2590</td>\n",
       "      <td>-0.8582</td>\n",
       "      <td>-0.0759</td>\n",
       "      <td>-1.5165</td>\n",
       "      <td>0.4560</td>\n",
       "      <td>-1.7755</td>\n",
       "    </tr>\n",
       "    <tr>\n",
       "      <th>88587</th>\n",
       "      <td>2017-7-9</td>\n",
       "      <td>20:9:16:117410004</td>\n",
       "      <td>viktor</td>\n",
       "      <td>0</td>\n",
       "      <td>0</td>\n",
       "      <td>0.3140</td>\n",
       "      <td>-0.8008</td>\n",
       "      <td>-0.0911</td>\n",
       "      <td>0.1183</td>\n",
       "      <td>1.0850</td>\n",
       "      <td>1.2814</td>\n",
       "    </tr>\n",
       "  </tbody>\n",
       "</table>\n",
       "</div>"
      ],
      "text/plain": [
       "           date               time username  wrist  activity  acceleration_x  \\\n",
       "88583  2017-7-9  20:9:15:317911028   viktor      0         0          0.3084   \n",
       "88584  2017-7-9  20:9:15:517889022   viktor      0         0          0.4977   \n",
       "88585  2017-7-9  20:9:15:717828989   viktor      0         0          0.4587   \n",
       "88586  2017-7-9  20:9:15:917932987   viktor      0         0          0.2590   \n",
       "88587  2017-7-9  20:9:16:117410004   viktor      0         0          0.3140   \n",
       "\n",
       "       acceleration_y  acceleration_z  gyro_x  gyro_y  gyro_z  \n",
       "88583         -0.8376         -0.1327  0.4823  2.0124  0.6048  \n",
       "88584         -1.0027         -0.4397  0.1022 -1.2565 -0.0761  \n",
       "88585         -1.1780         -0.2827 -1.4500 -0.2792 -1.2616  \n",
       "88586         -0.8582         -0.0759 -1.5165  0.4560 -1.7755  \n",
       "88587         -0.8008         -0.0911  0.1183  1.0850  1.2814  "
      ]
     },
     "execution_count": 4,
     "metadata": {},
     "output_type": "execute_result"
    }
   ],
   "source": [
    "data.tail()"
   ]
  },
  {
   "cell_type": "code",
   "execution_count": 5,
   "id": "3208d221",
   "metadata": {},
   "outputs": [
    {
     "data": {
      "text/plain": [
       "(88588, 11)"
      ]
     },
     "execution_count": 5,
     "metadata": {},
     "output_type": "execute_result"
    }
   ],
   "source": [
    "data.shape"
   ]
  },
  {
   "cell_type": "code",
   "execution_count": 6,
   "id": "e1af11ea",
   "metadata": {
    "scrolled": true
   },
   "outputs": [
    {
     "name": "stdout",
     "output_type": "stream",
     "text": [
      "<class 'pandas.core.frame.DataFrame'>\n",
      "RangeIndex: 88588 entries, 0 to 88587\n",
      "Data columns (total 11 columns):\n",
      " #   Column          Non-Null Count  Dtype  \n",
      "---  ------          --------------  -----  \n",
      " 0   date            88588 non-null  object \n",
      " 1   time            88588 non-null  object \n",
      " 2   username        88588 non-null  object \n",
      " 3   wrist           88588 non-null  int64  \n",
      " 4   activity        88588 non-null  int64  \n",
      " 5   acceleration_x  88588 non-null  float64\n",
      " 6   acceleration_y  88588 non-null  float64\n",
      " 7   acceleration_z  88588 non-null  float64\n",
      " 8   gyro_x          88588 non-null  float64\n",
      " 9   gyro_y          88588 non-null  float64\n",
      " 10  gyro_z          88588 non-null  float64\n",
      "dtypes: float64(6), int64(2), object(3)\n",
      "memory usage: 7.4+ MB\n"
     ]
    }
   ],
   "source": [
    "data.info()"
   ]
  },
  {
   "cell_type": "markdown",
   "id": "82596786",
   "metadata": {},
   "source": [
    "<div style=\"font-family: Calibri; font-size: 14pt; line-height: 1.5;\"\">\n",
    "\n",
    "-  There are total 88,588 records of sensor data.\n",
    "-  Each datapoint represents sensors data collected wrt time.\n",
    "-  Dataset contains mixed data types ie., float64(6), int64(2) & object(3).\n"
   ]
  },
  {
   "cell_type": "code",
   "execution_count": 7,
   "id": "8fd26b75",
   "metadata": {
    "scrolled": true
   },
   "outputs": [
    {
     "data": {
      "text/html": [
       "<div>\n",
       "<style scoped>\n",
       "    .dataframe tbody tr th:only-of-type {\n",
       "        vertical-align: middle;\n",
       "    }\n",
       "\n",
       "    .dataframe tbody tr th {\n",
       "        vertical-align: top;\n",
       "    }\n",
       "\n",
       "    .dataframe thead th {\n",
       "        text-align: right;\n",
       "    }\n",
       "</style>\n",
       "<table border=\"1\" class=\"dataframe\">\n",
       "  <thead>\n",
       "    <tr style=\"text-align: right;\">\n",
       "      <th></th>\n",
       "      <th>count</th>\n",
       "      <th>mean</th>\n",
       "      <th>std</th>\n",
       "      <th>min</th>\n",
       "      <th>25%</th>\n",
       "      <th>50%</th>\n",
       "      <th>75%</th>\n",
       "      <th>max</th>\n",
       "    </tr>\n",
       "  </thead>\n",
       "  <tbody>\n",
       "    <tr>\n",
       "      <th>wrist</th>\n",
       "      <td>88588.0</td>\n",
       "      <td>0.522170</td>\n",
       "      <td>0.499511</td>\n",
       "      <td>0.0000</td>\n",
       "      <td>0.000000</td>\n",
       "      <td>1.0000</td>\n",
       "      <td>1.000000</td>\n",
       "      <td>1.0000</td>\n",
       "    </tr>\n",
       "    <tr>\n",
       "      <th>activity</th>\n",
       "      <td>88588.0</td>\n",
       "      <td>0.500801</td>\n",
       "      <td>0.500002</td>\n",
       "      <td>0.0000</td>\n",
       "      <td>0.000000</td>\n",
       "      <td>1.0000</td>\n",
       "      <td>1.000000</td>\n",
       "      <td>1.0000</td>\n",
       "    </tr>\n",
       "    <tr>\n",
       "      <th>acceleration_x</th>\n",
       "      <td>88588.0</td>\n",
       "      <td>-0.074811</td>\n",
       "      <td>1.009299</td>\n",
       "      <td>-5.3505</td>\n",
       "      <td>-0.381800</td>\n",
       "      <td>-0.0595</td>\n",
       "      <td>0.355500</td>\n",
       "      <td>5.6033</td>\n",
       "    </tr>\n",
       "    <tr>\n",
       "      <th>acceleration_y</th>\n",
       "      <td>88588.0</td>\n",
       "      <td>-0.562585</td>\n",
       "      <td>0.658458</td>\n",
       "      <td>-3.2990</td>\n",
       "      <td>-1.033500</td>\n",
       "      <td>-0.7591</td>\n",
       "      <td>-0.241775</td>\n",
       "      <td>2.6680</td>\n",
       "    </tr>\n",
       "    <tr>\n",
       "      <th>acceleration_z</th>\n",
       "      <td>88588.0</td>\n",
       "      <td>-0.313956</td>\n",
       "      <td>0.486815</td>\n",
       "      <td>-3.7538</td>\n",
       "      <td>-0.376000</td>\n",
       "      <td>-0.2210</td>\n",
       "      <td>-0.085900</td>\n",
       "      <td>1.6403</td>\n",
       "    </tr>\n",
       "    <tr>\n",
       "      <th>gyro_x</th>\n",
       "      <td>88588.0</td>\n",
       "      <td>0.004160</td>\n",
       "      <td>1.253423</td>\n",
       "      <td>-4.4306</td>\n",
       "      <td>-0.920700</td>\n",
       "      <td>0.0187</td>\n",
       "      <td>0.888800</td>\n",
       "      <td>4.8742</td>\n",
       "    </tr>\n",
       "    <tr>\n",
       "      <th>gyro_y</th>\n",
       "      <td>88588.0</td>\n",
       "      <td>0.037203</td>\n",
       "      <td>1.198725</td>\n",
       "      <td>-7.4647</td>\n",
       "      <td>-0.644825</td>\n",
       "      <td>0.0393</td>\n",
       "      <td>0.733700</td>\n",
       "      <td>8.4980</td>\n",
       "    </tr>\n",
       "    <tr>\n",
       "      <th>gyro_z</th>\n",
       "      <td>88588.0</td>\n",
       "      <td>0.022327</td>\n",
       "      <td>1.914423</td>\n",
       "      <td>-9.4800</td>\n",
       "      <td>-1.345125</td>\n",
       "      <td>0.0069</td>\n",
       "      <td>1.398200</td>\n",
       "      <td>11.2662</td>\n",
       "    </tr>\n",
       "  </tbody>\n",
       "</table>\n",
       "</div>"
      ],
      "text/plain": [
       "                  count      mean       std     min       25%     50%  \\\n",
       "wrist           88588.0  0.522170  0.499511  0.0000  0.000000  1.0000   \n",
       "activity        88588.0  0.500801  0.500002  0.0000  0.000000  1.0000   \n",
       "acceleration_x  88588.0 -0.074811  1.009299 -5.3505 -0.381800 -0.0595   \n",
       "acceleration_y  88588.0 -0.562585  0.658458 -3.2990 -1.033500 -0.7591   \n",
       "acceleration_z  88588.0 -0.313956  0.486815 -3.7538 -0.376000 -0.2210   \n",
       "gyro_x          88588.0  0.004160  1.253423 -4.4306 -0.920700  0.0187   \n",
       "gyro_y          88588.0  0.037203  1.198725 -7.4647 -0.644825  0.0393   \n",
       "gyro_z          88588.0  0.022327  1.914423 -9.4800 -1.345125  0.0069   \n",
       "\n",
       "                     75%      max  \n",
       "wrist           1.000000   1.0000  \n",
       "activity        1.000000   1.0000  \n",
       "acceleration_x  0.355500   5.6033  \n",
       "acceleration_y -0.241775   2.6680  \n",
       "acceleration_z -0.085900   1.6403  \n",
       "gyro_x          0.888800   4.8742  \n",
       "gyro_y          0.733700   8.4980  \n",
       "gyro_z          1.398200  11.2662  "
      ]
     },
     "execution_count": 7,
     "metadata": {},
     "output_type": "execute_result"
    }
   ],
   "source": [
    "data.describe().T"
   ]
  },
  {
   "cell_type": "markdown",
   "id": "4fe11352",
   "metadata": {},
   "source": [
    "<div style=\"font-family: Calibri; font-size: 14pt; line-height: 1.5;\"\">\n",
    "\n",
    "-  From this we found \n",
    "      1. Negative readings of sensors represents direction on movement.\n",
    "      2. In our case we need to predict walk or run, so direction of motion can be ignored.\n",
    "      3. There is no variance in Standard deviation.\n",
    "-  For binary variables, \"mean\" can give valuable information on skewness. Mean values of \"wrist\" and \"activity\" are roughly around 0.5 indicating the sample collection is not heavily skewed towards one of the values.\n",
    "-  The remaining six features are (x,y,z) acceleration & orientation values measured by the device, and they are ratio features.\n",
    "-  Percentile & mean values provide a decent understanding of the skewness for ratio features. If mean is closer to 25th or 75th percentiles more than 50th percentile, that indicates an underlying skewness in the distribution.\n",
    "-  \"acceletation_y\", \"acceleration_z\" have skewness in their distribution.\n"
   ]
  },
  {
   "cell_type": "code",
   "execution_count": 8,
   "id": "0c0a3306",
   "metadata": {
    "scrolled": true
   },
   "outputs": [
    {
     "data": {
      "text/plain": [
       "date              0\n",
       "time              0\n",
       "username          0\n",
       "wrist             0\n",
       "activity          0\n",
       "acceleration_x    0\n",
       "acceleration_y    0\n",
       "acceleration_z    0\n",
       "gyro_x            0\n",
       "gyro_y            0\n",
       "gyro_z            0\n",
       "dtype: int64"
      ]
     },
     "execution_count": 8,
     "metadata": {},
     "output_type": "execute_result"
    }
   ],
   "source": [
    "data.isnull().sum()"
   ]
  },
  {
   "cell_type": "markdown",
   "id": "8ae35c7f",
   "metadata": {},
   "source": [
    "<div style=\"font-family: Calibri; font-size: 14pt; line-height: 1.0;\"\">\n",
    "\n",
    "-  dataset is having no null values.\n"
   ]
  },
  {
   "cell_type": "code",
   "execution_count": 9,
   "id": "f93f9f39",
   "metadata": {},
   "outputs": [
    {
     "data": {
      "text/plain": [
       "Index(['date', 'time', 'username', 'wrist', 'activity', 'acceleration_x',\n",
       "       'acceleration_y', 'acceleration_z', 'gyro_x', 'gyro_y', 'gyro_z'],\n",
       "      dtype='object')"
      ]
     },
     "execution_count": 9,
     "metadata": {},
     "output_type": "execute_result"
    }
   ],
   "source": [
    "data.columns"
   ]
  },
  {
   "cell_type": "code",
   "execution_count": 10,
   "id": "7dbe94f5",
   "metadata": {},
   "outputs": [
    {
     "data": {
      "text/plain": [
       "1    44365\n",
       "0    44223\n",
       "Name: activity, dtype: int64"
      ]
     },
     "execution_count": 10,
     "metadata": {},
     "output_type": "execute_result"
    }
   ],
   "source": [
    "data.activity.value_counts()"
   ]
  },
  {
   "cell_type": "code",
   "execution_count": 11,
   "id": "b282a241",
   "metadata": {},
   "outputs": [
    {
     "data": {
      "text/plain": [
       "1    46258\n",
       "0    42330\n",
       "Name: wrist, dtype: int64"
      ]
     },
     "execution_count": 11,
     "metadata": {},
     "output_type": "execute_result"
    }
   ],
   "source": [
    "data.wrist.value_counts()"
   ]
  },
  {
   "cell_type": "code",
   "execution_count": 12,
   "id": "059a5900",
   "metadata": {},
   "outputs": [
    {
     "data": {
      "text/plain": [
       "array(['viktor'], dtype=object)"
      ]
     },
     "execution_count": 12,
     "metadata": {},
     "output_type": "execute_result"
    }
   ],
   "source": [
    "data.username.unique()"
   ]
  },
  {
   "cell_type": "code",
   "execution_count": 13,
   "id": "585f1a64",
   "metadata": {},
   "outputs": [
    {
     "data": {
      "text/plain": [
       "2017-7-16    20480\n",
       "2017-7-17    11365\n",
       "2017-7-6     11357\n",
       "2017-7-15     7934\n",
       "2017-7-9      7788\n",
       "2017-7-11     6696\n",
       "2017-7-10     4337\n",
       "2017-7-1      4201\n",
       "2017-6-30     3992\n",
       "2017-7-2      3933\n",
       "2017-7-7      3280\n",
       "2017-7-4      3225\n",
       "Name: date, dtype: int64"
      ]
     },
     "execution_count": 13,
     "metadata": {},
     "output_type": "execute_result"
    }
   ],
   "source": [
    "data.date.value_counts()"
   ]
  },
  {
   "cell_type": "code",
   "execution_count": 14,
   "id": "703a51e6",
   "metadata": {},
   "outputs": [
    {
     "data": {
      "text/plain": [
       "12"
      ]
     },
     "execution_count": 14,
     "metadata": {},
     "output_type": "execute_result"
    }
   ],
   "source": [
    "data.date.nunique()"
   ]
  },
  {
   "cell_type": "code",
   "execution_count": 15,
   "id": "f0219284",
   "metadata": {},
   "outputs": [
    {
     "data": {
      "text/plain": [
       "13:51:15:847724020    1\n",
       "19:34:29:79468011     1\n",
       "19:34:37:706730008    1\n",
       "19:34:37:506595015    1\n",
       "19:34:37:307013988    1\n",
       "                     ..\n",
       "14:45:22:828522980    1\n",
       "14:45:22:629136979    1\n",
       "14:45:22:429431974    1\n",
       "14:45:22:229138970    1\n",
       "20:9:16:117410004     1\n",
       "Name: time, Length: 88588, dtype: int64"
      ]
     },
     "execution_count": 15,
     "metadata": {},
     "output_type": "execute_result"
    }
   ],
   "source": [
    "data.time.value_counts()"
   ]
  },
  {
   "cell_type": "code",
   "execution_count": 16,
   "id": "8fc25ce6",
   "metadata": {},
   "outputs": [
    {
     "data": {
      "text/plain": [
       "88588"
      ]
     },
     "execution_count": 16,
     "metadata": {},
     "output_type": "execute_result"
    }
   ],
   "source": [
    "data.time.nunique()"
   ]
  },
  {
   "cell_type": "markdown",
   "id": "034699e2",
   "metadata": {},
   "source": [
    "<div style=\"font-family: Calibri; font-size: 14pt; line-height: 1.5;\"\">\n",
    "\n",
    "-  This dataset represents single user \"victor\".<br>\n",
    "-  date is having 12 nunique values from Jun 30, 2017 to July 17, 2017.\n",
    "-  time is having 88588 nunique values.\n",
    "-  activity column is having two unique values i.e., 0 & 1, considering them running as '1' and walking as '0'.\n",
    "-  wrist column is having two unique values i.e., 0 & 1, considering them right as '1' and left as '0'.\n",
    "-  This comes under classification algorithm and it is slightly imbalanced wrt activity and wrist.\n",
    "-  For running we have 44365 records and 44223 for walking.\n",
    "-  For left & right wrist we have 42330 and 46258 records respectively.\n"
   ]
  },
  {
   "cell_type": "markdown",
   "id": "5011c982",
   "metadata": {},
   "source": [
    "<span style=\"color:Green\">\n",
    "<span class=\"cm-header cm-header-2\">\n",
    "5. Exploratory Data Analysis\n"
   ]
  },
  {
   "cell_type": "markdown",
   "id": "16589228",
   "metadata": {},
   "source": [
    "<span style=\"color:Maroon\">\n",
    "<span class=\"cm-header cm-header-3\">\n",
    "Univariate Analysis"
   ]
  },
  {
   "cell_type": "code",
   "execution_count": 17,
   "id": "9f991bb4",
   "metadata": {},
   "outputs": [
    {
     "data": {
      "text/html": [
       "<div>\n",
       "<style scoped>\n",
       "    .dataframe tbody tr th:only-of-type {\n",
       "        vertical-align: middle;\n",
       "    }\n",
       "\n",
       "    .dataframe tbody tr th {\n",
       "        vertical-align: top;\n",
       "    }\n",
       "\n",
       "    .dataframe thead th {\n",
       "        text-align: right;\n",
       "    }\n",
       "</style>\n",
       "<table border=\"1\" class=\"dataframe\">\n",
       "  <thead>\n",
       "    <tr style=\"text-align: right;\">\n",
       "      <th></th>\n",
       "      <th>date</th>\n",
       "      <th>time</th>\n",
       "      <th>username</th>\n",
       "      <th>wrist</th>\n",
       "      <th>activity</th>\n",
       "      <th>acceleration_x</th>\n",
       "      <th>acceleration_y</th>\n",
       "      <th>acceleration_z</th>\n",
       "      <th>gyro_x</th>\n",
       "      <th>gyro_y</th>\n",
       "      <th>gyro_z</th>\n",
       "    </tr>\n",
       "  </thead>\n",
       "  <tbody>\n",
       "    <tr>\n",
       "      <th>0</th>\n",
       "      <td>2017-6-30</td>\n",
       "      <td>13:51:15:847724020</td>\n",
       "      <td>viktor</td>\n",
       "      <td>0</td>\n",
       "      <td>0</td>\n",
       "      <td>0.2650</td>\n",
       "      <td>-0.7814</td>\n",
       "      <td>-0.0076</td>\n",
       "      <td>-0.0590</td>\n",
       "      <td>0.0325</td>\n",
       "      <td>-2.9296</td>\n",
       "    </tr>\n",
       "    <tr>\n",
       "      <th>1</th>\n",
       "      <td>2017-6-30</td>\n",
       "      <td>13:51:16:246945023</td>\n",
       "      <td>viktor</td>\n",
       "      <td>0</td>\n",
       "      <td>0</td>\n",
       "      <td>0.6722</td>\n",
       "      <td>-1.1233</td>\n",
       "      <td>-0.2344</td>\n",
       "      <td>-0.1757</td>\n",
       "      <td>0.0208</td>\n",
       "      <td>0.1269</td>\n",
       "    </tr>\n",
       "    <tr>\n",
       "      <th>2</th>\n",
       "      <td>2017-6-30</td>\n",
       "      <td>13:51:16:446233987</td>\n",
       "      <td>viktor</td>\n",
       "      <td>0</td>\n",
       "      <td>0</td>\n",
       "      <td>0.4399</td>\n",
       "      <td>-1.4817</td>\n",
       "      <td>0.0722</td>\n",
       "      <td>-0.9105</td>\n",
       "      <td>0.1063</td>\n",
       "      <td>-2.4367</td>\n",
       "    </tr>\n",
       "    <tr>\n",
       "      <th>3</th>\n",
       "      <td>2017-6-30</td>\n",
       "      <td>13:51:16:646117985</td>\n",
       "      <td>viktor</td>\n",
       "      <td>0</td>\n",
       "      <td>0</td>\n",
       "      <td>0.3031</td>\n",
       "      <td>-0.8125</td>\n",
       "      <td>0.0888</td>\n",
       "      <td>0.1199</td>\n",
       "      <td>-0.4099</td>\n",
       "      <td>-2.9336</td>\n",
       "    </tr>\n",
       "    <tr>\n",
       "      <th>4</th>\n",
       "      <td>2017-6-30</td>\n",
       "      <td>13:51:16:846738994</td>\n",
       "      <td>viktor</td>\n",
       "      <td>0</td>\n",
       "      <td>0</td>\n",
       "      <td>0.4814</td>\n",
       "      <td>-0.9312</td>\n",
       "      <td>0.0359</td>\n",
       "      <td>0.0527</td>\n",
       "      <td>0.4379</td>\n",
       "      <td>2.4922</td>\n",
       "    </tr>\n",
       "  </tbody>\n",
       "</table>\n",
       "</div>"
      ],
      "text/plain": [
       "        date                time username  wrist  activity  acceleration_x  \\\n",
       "0  2017-6-30  13:51:15:847724020   viktor      0         0          0.2650   \n",
       "1  2017-6-30  13:51:16:246945023   viktor      0         0          0.6722   \n",
       "2  2017-6-30  13:51:16:446233987   viktor      0         0          0.4399   \n",
       "3  2017-6-30  13:51:16:646117985   viktor      0         0          0.3031   \n",
       "4  2017-6-30  13:51:16:846738994   viktor      0         0          0.4814   \n",
       "\n",
       "   acceleration_y  acceleration_z  gyro_x  gyro_y  gyro_z  \n",
       "0         -0.7814         -0.0076 -0.0590  0.0325 -2.9296  \n",
       "1         -1.1233         -0.2344 -0.1757  0.0208  0.1269  \n",
       "2         -1.4817          0.0722 -0.9105  0.1063 -2.4367  \n",
       "3         -0.8125          0.0888  0.1199 -0.4099 -2.9336  \n",
       "4         -0.9312          0.0359  0.0527  0.4379  2.4922  "
      ]
     },
     "execution_count": 17,
     "metadata": {},
     "output_type": "execute_result"
    }
   ],
   "source": [
    "data.head()"
   ]
  },
  {
   "cell_type": "markdown",
   "id": "ad2bc797",
   "metadata": {},
   "source": [
    "<div style=\"font-family: Calibri; font-size: 14pt; line-height: 1.5;\"\">\n",
    "\n",
    "-  Before we do further data analysis, let's create a datetime object using string format \"date\", \"time\" columns, then index and sort the dataframe using that object."
   ]
  },
  {
   "cell_type": "code",
   "execution_count": 18,
   "id": "47e01248",
   "metadata": {},
   "outputs": [
    {
     "data": {
      "text/html": [
       "<div>\n",
       "<style scoped>\n",
       "    .dataframe tbody tr th:only-of-type {\n",
       "        vertical-align: middle;\n",
       "    }\n",
       "\n",
       "    .dataframe tbody tr th {\n",
       "        vertical-align: top;\n",
       "    }\n",
       "\n",
       "    .dataframe thead th {\n",
       "        text-align: right;\n",
       "    }\n",
       "</style>\n",
       "<table border=\"1\" class=\"dataframe\">\n",
       "  <thead>\n",
       "    <tr style=\"text-align: right;\">\n",
       "      <th></th>\n",
       "      <th>year</th>\n",
       "      <th>month</th>\n",
       "      <th>day</th>\n",
       "      <th>hour</th>\n",
       "      <th>minute</th>\n",
       "      <th>second</th>\n",
       "      <th>ns</th>\n",
       "    </tr>\n",
       "  </thead>\n",
       "  <tbody>\n",
       "    <tr>\n",
       "      <th>0</th>\n",
       "      <td>2017</td>\n",
       "      <td>6</td>\n",
       "      <td>30</td>\n",
       "      <td>13</td>\n",
       "      <td>51</td>\n",
       "      <td>15</td>\n",
       "      <td>847724020</td>\n",
       "    </tr>\n",
       "    <tr>\n",
       "      <th>1</th>\n",
       "      <td>2017</td>\n",
       "      <td>6</td>\n",
       "      <td>30</td>\n",
       "      <td>13</td>\n",
       "      <td>51</td>\n",
       "      <td>16</td>\n",
       "      <td>246945023</td>\n",
       "    </tr>\n",
       "    <tr>\n",
       "      <th>2</th>\n",
       "      <td>2017</td>\n",
       "      <td>6</td>\n",
       "      <td>30</td>\n",
       "      <td>13</td>\n",
       "      <td>51</td>\n",
       "      <td>16</td>\n",
       "      <td>446233987</td>\n",
       "    </tr>\n",
       "    <tr>\n",
       "      <th>3</th>\n",
       "      <td>2017</td>\n",
       "      <td>6</td>\n",
       "      <td>30</td>\n",
       "      <td>13</td>\n",
       "      <td>51</td>\n",
       "      <td>16</td>\n",
       "      <td>646117985</td>\n",
       "    </tr>\n",
       "    <tr>\n",
       "      <th>4</th>\n",
       "      <td>2017</td>\n",
       "      <td>6</td>\n",
       "      <td>30</td>\n",
       "      <td>13</td>\n",
       "      <td>51</td>\n",
       "      <td>16</td>\n",
       "      <td>846738994</td>\n",
       "    </tr>\n",
       "    <tr>\n",
       "      <th>...</th>\n",
       "      <td>...</td>\n",
       "      <td>...</td>\n",
       "      <td>...</td>\n",
       "      <td>...</td>\n",
       "      <td>...</td>\n",
       "      <td>...</td>\n",
       "      <td>...</td>\n",
       "    </tr>\n",
       "    <tr>\n",
       "      <th>88583</th>\n",
       "      <td>2017</td>\n",
       "      <td>7</td>\n",
       "      <td>9</td>\n",
       "      <td>20</td>\n",
       "      <td>9</td>\n",
       "      <td>15</td>\n",
       "      <td>317911028</td>\n",
       "    </tr>\n",
       "    <tr>\n",
       "      <th>88584</th>\n",
       "      <td>2017</td>\n",
       "      <td>7</td>\n",
       "      <td>9</td>\n",
       "      <td>20</td>\n",
       "      <td>9</td>\n",
       "      <td>15</td>\n",
       "      <td>517889022</td>\n",
       "    </tr>\n",
       "    <tr>\n",
       "      <th>88585</th>\n",
       "      <td>2017</td>\n",
       "      <td>7</td>\n",
       "      <td>9</td>\n",
       "      <td>20</td>\n",
       "      <td>9</td>\n",
       "      <td>15</td>\n",
       "      <td>717828989</td>\n",
       "    </tr>\n",
       "    <tr>\n",
       "      <th>88586</th>\n",
       "      <td>2017</td>\n",
       "      <td>7</td>\n",
       "      <td>9</td>\n",
       "      <td>20</td>\n",
       "      <td>9</td>\n",
       "      <td>15</td>\n",
       "      <td>917932987</td>\n",
       "    </tr>\n",
       "    <tr>\n",
       "      <th>88587</th>\n",
       "      <td>2017</td>\n",
       "      <td>7</td>\n",
       "      <td>9</td>\n",
       "      <td>20</td>\n",
       "      <td>9</td>\n",
       "      <td>16</td>\n",
       "      <td>117410004</td>\n",
       "    </tr>\n",
       "  </tbody>\n",
       "</table>\n",
       "<p>88588 rows × 7 columns</p>\n",
       "</div>"
      ],
      "text/plain": [
       "       year month day hour minute second         ns\n",
       "0      2017     6  30   13     51     15  847724020\n",
       "1      2017     6  30   13     51     16  246945023\n",
       "2      2017     6  30   13     51     16  446233987\n",
       "3      2017     6  30   13     51     16  646117985\n",
       "4      2017     6  30   13     51     16  846738994\n",
       "...     ...   ...  ..  ...    ...    ...        ...\n",
       "88583  2017     7   9   20      9     15  317911028\n",
       "88584  2017     7   9   20      9     15  517889022\n",
       "88585  2017     7   9   20      9     15  717828989\n",
       "88586  2017     7   9   20      9     15  917932987\n",
       "88587  2017     7   9   20      9     16  117410004\n",
       "\n",
       "[88588 rows x 7 columns]"
      ]
     },
     "execution_count": 18,
     "metadata": {},
     "output_type": "execute_result"
    }
   ],
   "source": [
    "# date column reformat\n",
    "data_dt_fr = data[\"date\"].str.split(\"-\", expand=True)\n",
    "\n",
    "#time column reformat\n",
    "data_time_fr = data[\"time\"].str.split(\":\", expand=True)\n",
    "\n",
    "#join formatted date and time dataframes\n",
    "data_dt_time_fr = pd.concat([data_dt_fr, data_time_fr], axis=1)\n",
    "data_dt_time_fr.columns = [\"year\",\"month\", \"day\", \"hour\", \"minute\", \"second\", \"ns\"] #rename columns\n",
    "\n",
    "data_dt_time_fr"
   ]
  },
  {
   "cell_type": "code",
   "execution_count": 19,
   "id": "0aa05182",
   "metadata": {},
   "outputs": [
    {
     "name": "stdout",
     "output_type": "stream",
     "text": [
      "* last row timestamp before sorting *\n",
      "2017-07-09 20:09:16.117410004\n"
     ]
    }
   ],
   "source": [
    "#create a datetime object\n",
    "data_dt_time_obj = pd.to_datetime(data_dt_time_fr)\n",
    "#add datetime object to a new dataframe and set it as index\n",
    "data_sorted = data.copy()\n",
    "data_sorted[\"datetime\"] = data_dt_time_obj\n",
    "data_sorted.set_index(\"datetime\", inplace=True)\n",
    "print(\"* last row timestamp before sorting *\")\n",
    "print(data_sorted.index[-1])"
   ]
  },
  {
   "cell_type": "code",
   "execution_count": 20,
   "id": "d5441267",
   "metadata": {},
   "outputs": [
    {
     "name": "stdout",
     "output_type": "stream",
     "text": [
      "* last row timestamp after sorting *\n",
      "2017-07-17 20:16:03.684989988\n"
     ]
    }
   ],
   "source": [
    "#sort df_sorted data by \"datetime\" index\n",
    "data_sorted.sort_index(inplace=True)\n",
    "print(\"* last row timestamp after sorting *\")\n",
    "print(data_sorted.index[-1])"
   ]
  },
  {
   "cell_type": "markdown",
   "id": "a54fc8d0",
   "metadata": {},
   "source": [
    "<div style=\"font-family: Calibri; font-size: 14pt; line-height: 1.0;\"\">\n",
    "\n",
    "-  Looks like the original dataset was infact not sorted by datetime. Newly created dataframe \"df_sorted\" is sorted by datetime."
   ]
  },
  {
   "cell_type": "code",
   "execution_count": 21,
   "id": "a67d284c",
   "metadata": {},
   "outputs": [
    {
     "name": "stdout",
     "output_type": "stream",
     "text": [
      "* dataframe with datetime index *\n"
     ]
    },
    {
     "data": {
      "text/html": [
       "<div>\n",
       "<style scoped>\n",
       "    .dataframe tbody tr th:only-of-type {\n",
       "        vertical-align: middle;\n",
       "    }\n",
       "\n",
       "    .dataframe tbody tr th {\n",
       "        vertical-align: top;\n",
       "    }\n",
       "\n",
       "    .dataframe thead th {\n",
       "        text-align: right;\n",
       "    }\n",
       "</style>\n",
       "<table border=\"1\" class=\"dataframe\">\n",
       "  <thead>\n",
       "    <tr style=\"text-align: right;\">\n",
       "      <th></th>\n",
       "      <th>date</th>\n",
       "      <th>time</th>\n",
       "      <th>username</th>\n",
       "      <th>wrist</th>\n",
       "      <th>activity</th>\n",
       "      <th>acceleration_x</th>\n",
       "      <th>acceleration_y</th>\n",
       "      <th>acceleration_z</th>\n",
       "      <th>gyro_x</th>\n",
       "      <th>gyro_y</th>\n",
       "      <th>gyro_z</th>\n",
       "    </tr>\n",
       "    <tr>\n",
       "      <th>datetime</th>\n",
       "      <th></th>\n",
       "      <th></th>\n",
       "      <th></th>\n",
       "      <th></th>\n",
       "      <th></th>\n",
       "      <th></th>\n",
       "      <th></th>\n",
       "      <th></th>\n",
       "      <th></th>\n",
       "      <th></th>\n",
       "      <th></th>\n",
       "    </tr>\n",
       "  </thead>\n",
       "  <tbody>\n",
       "    <tr>\n",
       "      <th>2017-06-30 13:51:15.847724020</th>\n",
       "      <td>2017-6-30</td>\n",
       "      <td>13:51:15:847724020</td>\n",
       "      <td>viktor</td>\n",
       "      <td>0</td>\n",
       "      <td>0</td>\n",
       "      <td>0.2650</td>\n",
       "      <td>-0.7814</td>\n",
       "      <td>-0.0076</td>\n",
       "      <td>-0.0590</td>\n",
       "      <td>0.0325</td>\n",
       "      <td>-2.9296</td>\n",
       "    </tr>\n",
       "    <tr>\n",
       "      <th>2017-06-30 13:51:16.246945023</th>\n",
       "      <td>2017-6-30</td>\n",
       "      <td>13:51:16:246945023</td>\n",
       "      <td>viktor</td>\n",
       "      <td>0</td>\n",
       "      <td>0</td>\n",
       "      <td>0.6722</td>\n",
       "      <td>-1.1233</td>\n",
       "      <td>-0.2344</td>\n",
       "      <td>-0.1757</td>\n",
       "      <td>0.0208</td>\n",
       "      <td>0.1269</td>\n",
       "    </tr>\n",
       "    <tr>\n",
       "      <th>2017-06-30 13:51:16.446233987</th>\n",
       "      <td>2017-6-30</td>\n",
       "      <td>13:51:16:446233987</td>\n",
       "      <td>viktor</td>\n",
       "      <td>0</td>\n",
       "      <td>0</td>\n",
       "      <td>0.4399</td>\n",
       "      <td>-1.4817</td>\n",
       "      <td>0.0722</td>\n",
       "      <td>-0.9105</td>\n",
       "      <td>0.1063</td>\n",
       "      <td>-2.4367</td>\n",
       "    </tr>\n",
       "    <tr>\n",
       "      <th>2017-06-30 13:51:16.646117985</th>\n",
       "      <td>2017-6-30</td>\n",
       "      <td>13:51:16:646117985</td>\n",
       "      <td>viktor</td>\n",
       "      <td>0</td>\n",
       "      <td>0</td>\n",
       "      <td>0.3031</td>\n",
       "      <td>-0.8125</td>\n",
       "      <td>0.0888</td>\n",
       "      <td>0.1199</td>\n",
       "      <td>-0.4099</td>\n",
       "      <td>-2.9336</td>\n",
       "    </tr>\n",
       "    <tr>\n",
       "      <th>2017-06-30 13:51:16.846738994</th>\n",
       "      <td>2017-6-30</td>\n",
       "      <td>13:51:16:846738994</td>\n",
       "      <td>viktor</td>\n",
       "      <td>0</td>\n",
       "      <td>0</td>\n",
       "      <td>0.4814</td>\n",
       "      <td>-0.9312</td>\n",
       "      <td>0.0359</td>\n",
       "      <td>0.0527</td>\n",
       "      <td>0.4379</td>\n",
       "      <td>2.4922</td>\n",
       "    </tr>\n",
       "  </tbody>\n",
       "</table>\n",
       "</div>"
      ],
      "text/plain": [
       "                                    date                time username  wrist  \\\n",
       "datetime                                                                       \n",
       "2017-06-30 13:51:15.847724020  2017-6-30  13:51:15:847724020   viktor      0   \n",
       "2017-06-30 13:51:16.246945023  2017-6-30  13:51:16:246945023   viktor      0   \n",
       "2017-06-30 13:51:16.446233987  2017-6-30  13:51:16:446233987   viktor      0   \n",
       "2017-06-30 13:51:16.646117985  2017-6-30  13:51:16:646117985   viktor      0   \n",
       "2017-06-30 13:51:16.846738994  2017-6-30  13:51:16:846738994   viktor      0   \n",
       "\n",
       "                               activity  acceleration_x  acceleration_y  \\\n",
       "datetime                                                                  \n",
       "2017-06-30 13:51:15.847724020         0          0.2650         -0.7814   \n",
       "2017-06-30 13:51:16.246945023         0          0.6722         -1.1233   \n",
       "2017-06-30 13:51:16.446233987         0          0.4399         -1.4817   \n",
       "2017-06-30 13:51:16.646117985         0          0.3031         -0.8125   \n",
       "2017-06-30 13:51:16.846738994         0          0.4814         -0.9312   \n",
       "\n",
       "                               acceleration_z  gyro_x  gyro_y  gyro_z  \n",
       "datetime                                                               \n",
       "2017-06-30 13:51:15.847724020         -0.0076 -0.0590  0.0325 -2.9296  \n",
       "2017-06-30 13:51:16.246945023         -0.2344 -0.1757  0.0208  0.1269  \n",
       "2017-06-30 13:51:16.446233987          0.0722 -0.9105  0.1063 -2.4367  \n",
       "2017-06-30 13:51:16.646117985          0.0888  0.1199 -0.4099 -2.9336  \n",
       "2017-06-30 13:51:16.846738994          0.0359  0.0527  0.4379  2.4922  "
      ]
     },
     "execution_count": 21,
     "metadata": {},
     "output_type": "execute_result"
    }
   ],
   "source": [
    "print(\"* dataframe with datetime index *\")\n",
    "data_sorted.head()"
   ]
  },
  {
   "cell_type": "markdown",
   "id": "175f1644",
   "metadata": {},
   "source": [
    "<div style=\"font-family: Calibri; font-size: 14pt; line-height: 1.5;\"\">\n",
    "\n",
    "-  Let's get some more information on when the samples were recorded.\n",
    "\n",
    "-  Time feature analysis can help us draw important insights into activity patterns among different users like hours/days when they are most active."
   ]
  },
  {
   "cell_type": "code",
   "execution_count": 22,
   "id": "f2fba0ae",
   "metadata": {},
   "outputs": [
    {
     "name": "stdout",
     "output_type": "stream",
     "text": [
      "Start time of data recording -> 2017-06-30 13:51:15.847724020\n",
      "End time of data recording -> 2017-07-17 20:16:03.684989988\n",
      "Number of days of data collection -> 12\n",
      "Days of data collection -> ['2017-6-30' '2017-7-1' '2017-7-2' '2017-7-4' '2017-7-6' '2017-7-7'\n",
      " '2017-7-9' '2017-7-10' '2017-7-11' '2017-7-15' '2017-7-16' '2017-7-17']\n"
     ]
    }
   ],
   "source": [
    "print(\"Start time of data recording ->\", data_sorted.index.min())\n",
    "print(\"End time of data recording ->\", data_sorted.index.max())\n",
    "print(\"Number of days of data collection ->\", data_sorted.index.day.nunique())\n",
    "print(\"Days of data collection ->\", data_sorted.date.unique())"
   ]
  },
  {
   "cell_type": "markdown",
   "id": "4f96acb6",
   "metadata": {},
   "source": [
    "<div style=\"font-family: Calibri; font-size: 14pt; line-height: 1.0;\"\">\n",
    "\n",
    "Data was collected on 12 days printed above between June 30, 2017 and July 17, 2017"
   ]
  },
  {
   "cell_type": "code",
   "execution_count": 23,
   "id": "b9c1fadc",
   "metadata": {},
   "outputs": [
    {
     "data": {
      "image/png": "[encoded data removed]",
      "text/plain": [
       "<Figure size 1008x720 with 2 Axes>"
      ]
     },
     "metadata": {
      "needs_background": "light"
     },
     "output_type": "display_data"
    }
   ],
   "source": [
    "f, ax =  plt.subplots(ncols=1, nrows=2, figsize = (14,10))\n",
    "\n",
    "#sample count vs hour of day\n",
    "hr = np.unique(data_sorted.index.hour, return_counts = True)\n",
    "ax[0].bar(hr[0], hr[1])\n",
    "ax[0].set_title(\"Recorded sample count for different hours of the day\")\n",
    "ax[0].set_xlabel(\"Hour\")\n",
    "ax[0].set_ylabel(\"Number of samples\")\n",
    "\n",
    "#sample count vs day of week\n",
    "day = np.unique(data_sorted.index.dayofweek, return_counts = True)\n",
    "ax[1].bar(day[0], day[1])\n",
    "ax[1].set_title(\"Recorded sample count for different days of the week\")\n",
    "ax[1].set_xlabel(\"Day\")\n",
    "ax[1].set_ylabel(\"Number of samples\")\n",
    "ax[1].set_xticklabels(['Sunday', 'Monday', 'Tuesday', 'Wednesday', 'Thursday', 'Friday', 'Saturday', 'Sunday'])\n",
    "\n",
    "\n",
    "f.tight_layout()\n",
    "f.show()"
   ]
  },
  {
   "cell_type": "markdown",
   "id": "3dc50250",
   "metadata": {},
   "source": [
    "<div style=\"font-family: Calibri; font-size: 14pt; line-height: 1.5;\"\">\n",
    "\n",
    "-  Observations on data collection timline:\n",
    "\n",
    "-  Hours of day: Most of the samples were recorded between 2pm and 8pm with the highest count coming from 6pm. The dip in sample count at 5pm looks out of place and worth noting.\n",
    "-  Days of week: Sunday dominates the sample count which could be due to it being no work day. Rest of the days have similar sample counts except for Wednesday which has zero."
   ]
  },
  {
   "cell_type": "code",
   "execution_count": 24,
   "id": "e1516d1f",
   "metadata": {},
   "outputs": [],
   "source": [
    "df_wrist=data['wrist'].replace({0:'left',1:'right'})"
   ]
  },
  {
   "cell_type": "code",
   "execution_count": 25,
   "id": "2ca6cf75",
   "metadata": {},
   "outputs": [
    {
     "data": {
      "image/png": "[encoded data removed]",
      "text/plain": [
       "<Figure size 288x288 with 1 Axes>"
      ]
     },
     "metadata": {
      "needs_background": "light"
     },
     "output_type": "display_data"
    }
   ],
   "source": [
    "plt.figure(figsize=(4,4))\n",
    "\n",
    "sns.countplot(df_wrist)\n",
    "plt.title(\"Countplot for Wrist Preference\",color='green')\n",
    "plt.show()"
   ]
  },
  {
   "cell_type": "markdown",
   "id": "8922d5fc",
   "metadata": {},
   "source": [
    "<div style=\"font-family: Calibri; font-size: 14pt; line-height: 1.0;\"\">\n",
    "\n",
    "-  for right wrist more number of records found compared with left wrist."
   ]
  },
  {
   "cell_type": "code",
   "execution_count": 26,
   "id": "0a2c49d6",
   "metadata": {},
   "outputs": [],
   "source": [
    "df_activity=data['activity'].replace({0:'walking',1:'running'})"
   ]
  },
  {
   "cell_type": "code",
   "execution_count": 27,
   "id": "1352f047",
   "metadata": {},
   "outputs": [
    {
     "data": {
      "image/png": "[encoded data removed]",
      "text/plain": [
       "<Figure size 216x288 with 1 Axes>"
      ]
     },
     "metadata": {
      "needs_background": "light"
     },
     "output_type": "display_data"
    }
   ],
   "source": [
    "plt.figure(figsize=(3,4))\n",
    "\n",
    "sns.countplot(df_activity)\n",
    "plt.title(\"Countplot for Activity\",color='green')\n",
    "plt.show()"
   ]
  },
  {
   "cell_type": "markdown",
   "id": "f3c25aaf",
   "metadata": {},
   "source": [
    "<div style=\"font-family: Calibri; font-size: 14pt; line-height: 1.0;\"\">\n",
    "\n",
    "-  almost same number of records found for both walking and running."
   ]
  },
  {
   "cell_type": "code",
   "execution_count": 28,
   "id": "cbe95222",
   "metadata": {},
   "outputs": [
    {
     "data": {
      "image/png": "[encoded data removed]",
      "text/plain": [
       "<Figure size 720x504 with 3 Axes>"
      ]
     },
     "metadata": {
      "needs_background": "light"
     },
     "output_type": "display_data"
    }
   ],
   "source": [
    "plt.figure(figsize=(10,7))\n",
    "           \n",
    "           \n",
    "plotnumber=1\n",
    "for i in data.columns[5:8]:\n",
    "    plt.subplot(2,3,plotnumber)\n",
    "    sns.distplot(data[i])\n",
    "    plotnumber+=1\n",
    "plt.suptitle(\"Distribution Plots for Accelerometer Sensors\",color='green')\n",
    "\n",
    "plt.tight_layout()"
   ]
  },
  {
   "cell_type": "markdown",
   "id": "989115ea",
   "metadata": {},
   "source": [
    "<div style=\"font-family: Calibri; font-size: 14pt; line-height: 1.5;\"\">\n",
    "\n",
    "- For x-axis, data is roughly symmetric and the double peak pattern is because of two \"wrist\" values.<br>\n",
    "- For y-axis & z-axis data is slightly skeewed and the double peak pattern is because of two \"wrist\" values."
   ]
  },
  {
   "cell_type": "code",
   "execution_count": 29,
   "id": "2b23fe66",
   "metadata": {},
   "outputs": [
    {
     "data": {
      "image/png": "[encoded data removed]",
      "text/plain": [
       "<Figure size 720x504 with 3 Axes>"
      ]
     },
     "metadata": {
      "needs_background": "light"
     },
     "output_type": "display_data"
    }
   ],
   "source": [
    "plt.figure(figsize=(10,7))\n",
    "           \n",
    "           \n",
    "plotnumber=1\n",
    "for i in data.columns[8:]:\n",
    "    plt.subplot(2,3,plotnumber)\n",
    "    sns.distplot(data[i])\n",
    "    plotnumber+=1\n",
    "plt.suptitle(\"Distribution Plots for Gyroscope Sensors\",color='green')\n",
    "\n",
    "plt.tight_layout()"
   ]
  },
  {
   "cell_type": "markdown",
   "id": "cbf9d359",
   "metadata": {},
   "source": [
    "<div style=\"font-family: Calibri; font-size: 14pt; line-height: 1.5;\"\">\n",
    "- For x-axis, gyroscope data double peek pattern is observed because of two wrist values.<br>\n",
    "- For y-axis, gyroscope data has normal distribution.<br>\n",
    "- For z-axis, gyroscope data looks symmetric.<br>"
   ]
  },
  {
   "cell_type": "markdown",
   "id": "94ca1d92",
   "metadata": {},
   "source": [
    "<span style=\"color:Maroon\">\n",
    "<span class=\"cm-header cm-header-3\">\n",
    "Bivariate Analysis"
   ]
  },
  {
   "cell_type": "code",
   "execution_count": 30,
   "id": "ec0667d5",
   "metadata": {},
   "outputs": [
    {
     "data": {
      "image/png": "[encoded data removed]",
      "text/plain": [
       "<Figure size 288x288 with 1 Axes>"
      ]
     },
     "metadata": {
      "needs_background": "light"
     },
     "output_type": "display_data"
    }
   ],
   "source": [
    "plt.figure(figsize=(4,4))\n",
    "\n",
    "sns.countplot(x=df_wrist,hue=df_activity)\n",
    "plt.title(\"Countplot wrt Activity\",color='green')\n",
    "plt.show()"
   ]
  },
  {
   "cell_type": "code",
   "execution_count": 31,
   "id": "2c965768",
   "metadata": {},
   "outputs": [
    {
     "data": {
      "image/png": "[encoded data removed]",
      "text/plain": [
       "<Figure size 720x576 with 6 Axes>"
      ]
     },
     "metadata": {
      "needs_background": "light"
     },
     "output_type": "display_data"
    }
   ],
   "source": [
    "plt.figure(figsize=(10,8))\n",
    "plotnumber=1\n",
    "for i in data.columns[5:]:\n",
    "    plt.subplot(2,3,plotnumber)\n",
    "    sns.stripplot(data=data,x='activity',y=i,hue='activity')\n",
    "    plotnumber+=1\n",
    "plt.suptitle(\"stripplot wrt Activity\",color='green')\n",
    "\n",
    "plt.tight_layout()"
   ]
  },
  {
   "cell_type": "markdown",
   "id": "0aaae57d",
   "metadata": {},
   "source": [
    "<div style=\"font-family: Calibri; font-size: 14pt; line-height: 1.5;\"\">\n",
    "\n",
    "-  \"acceleration_x\", \"acceleration_z\" show clear differentiation between walking and running, with running yielding much higher(+ve, -ve based on the wrist motion) values.\n",
    "-  \"acceleration_y\" shows some separation but not as pronounced as the two other dimensions.\n",
    "-  gyroscope almost has similar values."
   ]
  },
  {
   "cell_type": "markdown",
   "id": "914000a8",
   "metadata": {},
   "source": [
    "<span style=\"color:Maroon\">\n",
    "<span class=\"cm-header cm-header-3\">\n",
    "Multi-variate Analysis"
   ]
  },
  {
   "cell_type": "code",
   "execution_count": 32,
   "id": "6c515e1e",
   "metadata": {},
   "outputs": [
    {
     "data": {
      "image/png": "[encoded data removed]",
      "text/plain": [
       "<Figure size 432x288 with 2 Axes>"
      ]
     },
     "metadata": {
      "needs_background": "light"
     },
     "output_type": "display_data"
    }
   ],
   "source": [
    "sns.heatmap(data.corr(), cmap='PiYG', annot=True)\n",
    "plt.show()\n"
   ]
  },
  {
   "cell_type": "markdown",
   "id": "7de59a5a",
   "metadata": {},
   "source": [
    "<div style=\"font-family: Calibri; font-size: 14pt; line-height: 1.5;\"\">\n",
    "\n",
    "- For predictive analysis, acceleration_y could be the most important feature because of it's data distribution quality and ability to differentiate \"activity\"<br>\n",
    "- It's positive to see that data distribution of all sensor axes is either symmetrical or close to equal.<br>\n",
    "- Regarding the sensor data presented in the dataset, one can make a conclusion that the data presented doesn't suffer from skewing and normally distributed.<br>"
   ]
  },
  {
   "cell_type": "markdown",
   "id": "a0d454f8",
   "metadata": {},
   "source": [
    "<span style=\"color:Green\">\n",
    "<span class=\"cm-header cm-header-2\">\n",
    "6. Data Pre-Processing"
   ]
  },
  {
   "cell_type": "markdown",
   "id": "a22035f5",
   "metadata": {},
   "source": [
    "<span style=\"color:Maroon\">\n",
    "<span class=\"cm-header cm-header-4\">\n",
    "Handling Missing values"
   ]
  },
  {
   "cell_type": "code",
   "execution_count": 33,
   "id": "dc7b9471",
   "metadata": {},
   "outputs": [
    {
     "data": {
      "text/plain": [
       "date              0\n",
       "time              0\n",
       "username          0\n",
       "wrist             0\n",
       "activity          0\n",
       "acceleration_x    0\n",
       "acceleration_y    0\n",
       "acceleration_z    0\n",
       "gyro_x            0\n",
       "gyro_y            0\n",
       "gyro_z            0\n",
       "dtype: int64"
      ]
     },
     "execution_count": 33,
     "metadata": {},
     "output_type": "execute_result"
    }
   ],
   "source": [
    "data.isnull().sum()"
   ]
  },
  {
   "cell_type": "markdown",
   "id": "8a17e3ef",
   "metadata": {},
   "source": [
    "<div style=\"font-family: Calibri; font-size: 14pt; line-height: 1.0;\"\">\n",
    "\n",
    "-  as this is subset of original data no NaN values found in this dataset."
   ]
  },
  {
   "cell_type": "code",
   "execution_count": 34,
   "id": "80d0cbae",
   "metadata": {},
   "outputs": [
    {
     "data": {
      "text/plain": [
       "0"
      ]
     },
     "execution_count": 34,
     "metadata": {},
     "output_type": "execute_result"
    }
   ],
   "source": [
    "data.duplicated().sum()"
   ]
  },
  {
   "cell_type": "markdown",
   "id": "f11c785e",
   "metadata": {},
   "source": [
    "<div style=\"font-family: Calibri; font-size: 14pt; line-height: 1.0;\"\">\n",
    "\n",
    "- No Duplicates found in the dataset."
   ]
  },
  {
   "cell_type": "markdown",
   "id": "06331838",
   "metadata": {},
   "source": [
    "<span style=\"color:Maroon\">\n",
    "<span class=\"cm-header cm-header-4\">\n",
    "Handling Outliers"
   ]
  },
  {
   "cell_type": "code",
   "execution_count": 35,
   "id": "28c0bd62",
   "metadata": {},
   "outputs": [
    {
     "data": {
      "image/png": "[encoded data removed]",
      "text/plain": [
       "<Figure size 720x504 with 6 Axes>"
      ]
     },
     "metadata": {
      "needs_background": "light"
     },
     "output_type": "display_data"
    }
   ],
   "source": [
    "plt.figure(figsize=(10,7))\n",
    "plotnumber=1\n",
    "for i in data.columns[5:]:\n",
    "    plt.subplot(2,3,plotnumber)\n",
    "    sns.boxplot(y=data[i])\n",
    "    plt.title(i)\n",
    "    plotnumber+=1\n",
    "plt.suptitle(\"Box Plots for acceleration and gyroscope sensors\",color='green')\n",
    "\n",
    "plt.tight_layout()"
   ]
  },
  {
   "cell_type": "markdown",
   "id": "4ffca8ce",
   "metadata": {},
   "source": [
    "<div style=\"font-family: Calibri; font-size: 14pt; line-height: 1.5;\"\">\n",
    "\n",
    "-  as we know all these sensors data collected wrt date and time, records showing above and lower fence represents they are in clusters, no need to impute them."
   ]
  },
  {
   "cell_type": "markdown",
   "id": "ea8bf68b",
   "metadata": {},
   "source": [
    "<span style=\"color:Maroon\">\n",
    "<span class=\"cm-header cm-header-4\">\n",
    "Declaring Features and Target"
   ]
  },
  {
   "cell_type": "markdown",
   "id": "f631a26c",
   "metadata": {},
   "source": [
    "<div style=\"font-family: Calibri; font-size: 14pt; line-height: 1.5;\"\">\n",
    "-  as we have to predict walk run, we will choose only acceleraion and gyroscope records in x because all records belongs to single user so we can drop 'username'<br>\n",
    "-  date and time features not that important as dataset is very small, dropping date and time.<br>                              -  almost same count of records found for wrist, even this feature does't show much effect on the activity, we can drop wrist.<br>           \n",
    "-  let's first seperate the sensors data and activity from the dataset."
   ]
  },
  {
   "cell_type": "code",
   "execution_count": 36,
   "id": "628744af",
   "metadata": {},
   "outputs": [],
   "source": [
    "x=data.iloc[:,5:]\n",
    "y=data['activity']"
   ]
  },
  {
   "cell_type": "code",
   "execution_count": 37,
   "id": "61221aff",
   "metadata": {},
   "outputs": [
    {
     "name": "stdout",
     "output_type": "stream",
     "text": [
      "(88588, 6) (88588,)\n"
     ]
    }
   ],
   "source": [
    "print(x.shape, y.shape)"
   ]
  },
  {
   "cell_type": "markdown",
   "id": "3053b07c",
   "metadata": {},
   "source": [
    "<div style=\"font-family: Calibri; font-size: 14pt; line-height: 1.0;\"\">\n",
    "splitting the dataset, Let's use standard froms of x_train, x_test, y_train, y_test"
   ]
  },
  {
   "cell_type": "code",
   "execution_count": 38,
   "id": "1b588f12",
   "metadata": {},
   "outputs": [
    {
     "name": "stdout",
     "output_type": "stream",
     "text": [
      "(70870, 6)\n",
      "(17718, 6)\n",
      "(70870,)\n",
      "(17718,)\n"
     ]
    }
   ],
   "source": [
    "x_train, x_test, y_train, y_test = train_test_split(x,y,test_size=0.2,random_state=42)\n",
    "print(x_train.shape)\n",
    "print(x_test.shape)\n",
    "print(y_train.shape)\n",
    "print(y_test.shape)\n"
   ]
  },
  {
   "cell_type": "markdown",
   "id": "cea35193",
   "metadata": {},
   "source": [
    "<span style=\"color:Maroon\">\n",
    "<span class=\"cm-header cm-header-3\">SCALING"
   ]
  },
  {
   "cell_type": "code",
   "execution_count": 39,
   "id": "dab78922",
   "metadata": {},
   "outputs": [],
   "source": [
    "#scaling the data usning StandardScaler technique.\n",
    "scaler = StandardScaler()\n",
    "scaler.fit(x_train)\n",
    "X_train = scaler.transform(x_train)\n",
    "X_test = scaler.transform(x_test)\n"
   ]
  },
  {
   "cell_type": "code",
   "execution_count": 40,
   "id": "c5b96cc0",
   "metadata": {},
   "outputs": [
    {
     "data": {
      "text/plain": [
       "array([[-3.52556564e-01, -5.81810235e-01,  3.18432322e-01,\n",
       "         4.07375227e-01, -6.37590987e-03, -7.00198693e-01],\n",
       "       [-3.49904193e+00,  1.66553473e+00,  1.90942401e+00,\n",
       "         3.24072461e+00,  2.19586943e+00,  1.24352228e+00],\n",
       "       [-3.99652217e-01,  9.42315953e-01, -1.24273856e+00,\n",
       "        -1.52526346e-01, -1.13475734e-01, -5.50916024e-02],\n",
       "       ...,\n",
       "       [ 4.15846197e-01, -4.49998025e-01,  5.20802516e-01,\n",
       "        -5.47450506e-01, -9.26715724e-02, -7.10424410e-01],\n",
       "       [-4.05105398e-01, -1.80610450e-03,  7.64304864e-01,\n",
       "         3.27959394e-01,  4.39665316e-01,  3.38911531e-01],\n",
       "       [-4.13136446e-01,  1.49465016e+00,  3.45168222e-01,\n",
       "         1.68896319e+00, -1.96942031e-01,  2.12945543e+00]])"
      ]
     },
     "execution_count": 40,
     "metadata": {},
     "output_type": "execute_result"
    }
   ],
   "source": [
    "X_train"
   ]
  },
  {
   "cell_type": "code",
   "execution_count": 41,
   "id": "f9a4afd1",
   "metadata": {},
   "outputs": [
    {
     "data": {
      "text/plain": [
       "array([[ 1.74007681,  0.14901017, -1.33919346,  0.23401725, -1.33875764,\n",
       "        -0.89354822],\n",
       "       [-0.03934568,  1.46941276,  0.20387927,  1.3972397 , -0.69424471,\n",
       "         1.86807359],\n",
       "       [ 2.27657066, -1.92471364, -3.91756249, -0.12371316, -0.29913207,\n",
       "         1.43269804],\n",
       "       ...,\n",
       "       [-3.2097259 ,  2.05397787,  0.92286932,  2.31455243,  1.85892522,\n",
       "         1.46473166],\n",
       "       [ 0.27079159,  0.15341912,  0.93932218, -0.61872522, -0.10715127,\n",
       "        -0.45979   ],\n",
       "       [-0.48501929,  2.46446572,  0.44100614, -1.10950708, -0.50717369,\n",
       "        -0.43260838]])"
      ]
     },
     "execution_count": 41,
     "metadata": {},
     "output_type": "execute_result"
    }
   ],
   "source": [
    "X_test"
   ]
  },
  {
   "cell_type": "markdown",
   "id": "81bcbe21",
   "metadata": {},
   "source": [
    "<span style=\"color:Green\">\n",
    "<span class=\"cm-header cm-header-2\">\n",
    "7. Modelling"
   ]
  },
  {
   "cell_type": "markdown",
   "id": "38604433",
   "metadata": {},
   "source": [
    "##### LOGISTIC REGRESSION"
   ]
  },
  {
   "cell_type": "code",
   "execution_count": 42,
   "id": "4523043f",
   "metadata": {},
   "outputs": [
    {
     "name": "stdout",
     "output_type": "stream",
     "text": [
      "classificationreport-\n",
      "               precision    recall  f1-score   support\n",
      "\n",
      "           0       0.83      0.90      0.86      8913\n",
      "           1       0.89      0.81      0.85      8805\n",
      "\n",
      "    accuracy                           0.86     17718\n",
      "   macro avg       0.86      0.86      0.86     17718\n",
      "weighted avg       0.86      0.86      0.86     17718\n",
      "\n",
      "Accuracy_score - 0.8556270459419799\n"
     ]
    }
   ],
   "source": [
    "#instantiating the model\n",
    "lr= LogisticRegression()\n",
    "\n",
    "#training the model\n",
    "lr.fit(X_train,y_train)\n",
    "\n",
    "#predicting\n",
    "y_pred_lr= lr.predict(X_test)\n",
    "\n",
    "print('classificationreport-\\n',classification_report(y_test, y_pred_lr))\n",
    "print('Accuracy_score -',accuracy_score(y_test,y_pred_lr))\n",
    "lr_acc = accuracy_score(y_test,y_pred_lr)\n"
   ]
  },
  {
   "cell_type": "markdown",
   "id": "5a5ff8a8",
   "metadata": {},
   "source": [
    "##### DECISION TREE CLASSIFIER"
   ]
  },
  {
   "cell_type": "code",
   "execution_count": 43,
   "id": "9fbba06a",
   "metadata": {},
   "outputs": [
    {
     "name": "stdout",
     "output_type": "stream",
     "text": [
      "classificationreport-\n",
      "               precision    recall  f1-score   support\n",
      "\n",
      "           0       0.98      0.98      0.98      8913\n",
      "           1       0.98      0.98      0.98      8805\n",
      "\n",
      "    accuracy                           0.98     17718\n",
      "   macro avg       0.98      0.98      0.98     17718\n",
      "weighted avg       0.98      0.98      0.98     17718\n",
      "\n",
      "Accuracy_score - 0.9826729879218874\n"
     ]
    }
   ],
   "source": [
    "# Create an instance of the decision tree model\n",
    "tree = DecisionTreeClassifier()\n",
    "\n",
    "# Fit the model to the training data\n",
    "tree.fit(X_train, y_train)\n",
    "\n",
    "# Make predictions on the test data\n",
    "y_pred_tree= tree.predict(X_test)\n",
    "\n",
    "print('classificationreport-\\n',classification_report(y_test, y_pred_tree))\n",
    "print('Accuracy_score -',accuracy_score(y_test, y_pred_tree))\n",
    "tr_acc = accuracy_score(y_test,y_pred_tree)\n"
   ]
  },
  {
   "cell_type": "markdown",
   "id": "96515f7a",
   "metadata": {},
   "source": [
    "##### RANDOM FOREST CLASSIFIER"
   ]
  },
  {
   "cell_type": "code",
   "execution_count": 44,
   "id": "fa60152b",
   "metadata": {},
   "outputs": [
    {
     "name": "stdout",
     "output_type": "stream",
     "text": [
      "classificationreport-\n",
      "               precision    recall  f1-score   support\n",
      "\n",
      "           0       0.99      0.99      0.99      8913\n",
      "           1       0.99      0.99      0.99      8805\n",
      "\n",
      "    accuracy                           0.99     17718\n",
      "   macro avg       0.99      0.99      0.99     17718\n",
      "weighted avg       0.99      0.99      0.99     17718\n",
      "\n",
      "Accuracy_score - 0.9902359182752004\n"
     ]
    }
   ],
   "source": [
    "#instantiating object\n",
    "rf = RandomForestClassifier()\n",
    "\n",
    "#fitting the model\n",
    "rf.fit(X_train, y_train)\n",
    "\n",
    "#predicting\n",
    "y_pred_rf= rf.predict(X_test)\n",
    "\n",
    "print('classificationreport-\\n',classification_report(y_test, y_pred_rf))\n",
    "print('Accuracy_score -',accuracy_score(y_test, y_pred_rf))\n",
    "rf_acc = accuracy_score(y_test,y_pred_rf)\n"
   ]
  },
  {
   "cell_type": "markdown",
   "id": "e0db2264",
   "metadata": {},
   "source": [
    "###### ADA BOOST CLASSIFIER"
   ]
  },
  {
   "cell_type": "code",
   "execution_count": 45,
   "id": "7d3b2ebe",
   "metadata": {},
   "outputs": [
    {
     "name": "stdout",
     "output_type": "stream",
     "text": [
      "classificationreport-\n",
      "               precision    recall  f1-score   support\n",
      "\n",
      "           0       0.97      0.98      0.98      8913\n",
      "           1       0.98      0.97      0.98      8805\n",
      "\n",
      "    accuracy                           0.98     17718\n",
      "   macro avg       0.98      0.98      0.98     17718\n",
      "weighted avg       0.98      0.98      0.98     17718\n",
      "\n",
      "Accuracy_score - 0.9754486962411107\n"
     ]
    }
   ],
   "source": [
    "#instantiating the object\n",
    "ada_boost= AdaBoostClassifier()\n",
    "\n",
    "#fitting the model\n",
    "ada_boost.fit(X_train, y_train)\n",
    "\n",
    "#predicting\n",
    "y_pred_ada_boost=ada_boost.predict(X_test)\n",
    "\n",
    "print('classificationreport-\\n',classification_report(y_test, y_pred_ada_boost))\n",
    "print('Accuracy_score -',accuracy_score(y_test, y_pred_ada_boost))\n",
    "ab_acc = accuracy_score(y_test,y_pred_ada_boost)\n"
   ]
  },
  {
   "cell_type": "markdown",
   "id": "48b0f152",
   "metadata": {},
   "source": [
    "##### XG BOOST CLASSIFIER"
   ]
  },
  {
   "cell_type": "code",
   "execution_count": 46,
   "id": "26010d61",
   "metadata": {},
   "outputs": [
    {
     "name": "stdout",
     "output_type": "stream",
     "text": [
      "classificationreport-\n",
      "               precision    recall  f1-score   support\n",
      "\n",
      "           0       0.99      0.99      0.99      8913\n",
      "           1       0.99      0.99      0.99      8805\n",
      "\n",
      "    accuracy                           0.99     17718\n",
      "   macro avg       0.99      0.99      0.99     17718\n",
      "weighted avg       0.99      0.99      0.99     17718\n",
      "\n",
      "Accuracy_score - 0.9913082740715656\n"
     ]
    }
   ],
   "source": [
    "#instantiating the object\n",
    "xgboost= XGBClassifier()\n",
    "\n",
    "#fitting the model\n",
    "xgboost.fit(X_train, y_train)\n",
    "\n",
    "#predicting\n",
    "y_pred_xgboost= xgboost.predict(X_test)\n",
    "\n",
    "print('classificationreport-\\n',classification_report(y_test, y_pred_xgboost))\n",
    "print('Accuracy_score -',accuracy_score(y_test, y_pred_xgboost))\n",
    "xg_acc = accuracy_score(y_test,y_pred_xgboost)\n"
   ]
  },
  {
   "cell_type": "markdown",
   "id": "32b9bf33",
   "metadata": {},
   "source": [
    "###### K Nearest Neighbors"
   ]
  },
  {
   "cell_type": "code",
   "execution_count": 47,
   "id": "f59aee6c",
   "metadata": {},
   "outputs": [
    {
     "name": "stdout",
     "output_type": "stream",
     "text": [
      "classificationreport-\n",
      "               precision    recall  f1-score   support\n",
      "\n",
      "           0       0.98      1.00      0.99      8913\n",
      "           1       1.00      0.98      0.99      8805\n",
      "\n",
      "    accuracy                           0.99     17718\n",
      "   macro avg       0.99      0.99      0.99     17718\n",
      "weighted avg       0.99      0.99      0.99     17718\n",
      "\n",
      "Accuracy_score - 0.9896715204876397\n"
     ]
    }
   ],
   "source": [
    "from sklearn.neighbors import KNeighborsClassifier\n",
    "\n",
    "# instantiate the estimator\n",
    "knn = KNeighborsClassifier()\n",
    "\n",
    "# fit the model\n",
    "knn.fit(X_train, y_train)\n",
    "\n",
    "# predict the response\n",
    "y_pred_knn = knn.predict(X_test)\n",
    "\n",
    "print('classificationreport-\\n',classification_report(y_test, y_pred_knn))\n",
    "print('Accuracy_score -',accuracy_score(y_test, y_pred_knn))\n",
    "knn_acc = accuracy_score(y_test,y_pred_knn)\n"
   ]
  },
  {
   "cell_type": "markdown",
   "id": "27511a00",
   "metadata": {},
   "source": [
    "###### Support Vector Classifier"
   ]
  },
  {
   "cell_type": "code",
   "execution_count": 48,
   "id": "094e9919",
   "metadata": {},
   "outputs": [
    {
     "name": "stdout",
     "output_type": "stream",
     "text": [
      "classificationreport-\n",
      "               precision    recall  f1-score   support\n",
      "\n",
      "           0       0.98      0.99      0.99      8913\n",
      "           1       0.99      0.98      0.99      8805\n",
      "\n",
      "    accuracy                           0.99     17718\n",
      "   macro avg       0.99      0.99      0.99     17718\n",
      "weighted avg       0.99      0.99      0.99     17718\n",
      "\n",
      "Accuracy_score - 0.9892200022575911\n"
     ]
    }
   ],
   "source": [
    "from sklearn.svm import SVC\n",
    "\n",
    "# instantiate the estimator\n",
    "svm = SVC()\n",
    "\n",
    "# fit the model\n",
    "svm.fit(X_train, y_train)\n",
    "\n",
    "# predict the response\n",
    "y_pred_svm = svm.predict(X_test)\n",
    "\n",
    "print('classificationreport-\\n',classification_report(y_test, y_pred_svm))\n",
    "print('Accuracy_score -',accuracy_score(y_test, y_pred_svm))\n",
    "svm_acc = accuracy_score(y_test,y_pred_svm)\n"
   ]
  },
  {
   "cell_type": "markdown",
   "id": "699dab95",
   "metadata": {},
   "source": [
    "<span style=\"color:Green\">\n",
    "<span class=\"cm-header cm-header-2\">\n",
    "8. Model Comparison Report"
   ]
  },
  {
   "cell_type": "code",
   "execution_count": 49,
   "id": "8e59fa4b",
   "metadata": {},
   "outputs": [
    {
     "data": {
      "text/html": [
       "<div>\n",
       "<style scoped>\n",
       "    .dataframe tbody tr th:only-of-type {\n",
       "        vertical-align: middle;\n",
       "    }\n",
       "\n",
       "    .dataframe tbody tr th {\n",
       "        vertical-align: top;\n",
       "    }\n",
       "\n",
       "    .dataframe thead th {\n",
       "        text-align: right;\n",
       "    }\n",
       "</style>\n",
       "<table border=\"1\" class=\"dataframe\">\n",
       "  <thead>\n",
       "    <tr style=\"text-align: right;\">\n",
       "      <th></th>\n",
       "      <th>Accuracy</th>\n",
       "    </tr>\n",
       "  </thead>\n",
       "  <tbody>\n",
       "    <tr>\n",
       "      <th>Logistic Regression</th>\n",
       "      <td>0.855627</td>\n",
       "    </tr>\n",
       "    <tr>\n",
       "      <th>Decision Tree</th>\n",
       "      <td>0.982673</td>\n",
       "    </tr>\n",
       "    <tr>\n",
       "      <th>Random Forest</th>\n",
       "      <td>0.990236</td>\n",
       "    </tr>\n",
       "    <tr>\n",
       "      <th>Ada Boost</th>\n",
       "      <td>0.975449</td>\n",
       "    </tr>\n",
       "    <tr>\n",
       "      <th>XG Boost</th>\n",
       "      <td>0.991308</td>\n",
       "    </tr>\n",
       "    <tr>\n",
       "      <th>KNN</th>\n",
       "      <td>0.989672</td>\n",
       "    </tr>\n",
       "    <tr>\n",
       "      <th>SVC</th>\n",
       "      <td>0.989220</td>\n",
       "    </tr>\n",
       "  </tbody>\n",
       "</table>\n",
       "</div>"
      ],
      "text/plain": [
       "                     Accuracy\n",
       "Logistic Regression  0.855627\n",
       "Decision Tree        0.982673\n",
       "Random Forest        0.990236\n",
       "Ada Boost            0.975449\n",
       "XG Boost             0.991308\n",
       "KNN                  0.989672\n",
       "SVC                  0.989220"
      ]
     },
     "execution_count": 49,
     "metadata": {},
     "output_type": "execute_result"
    }
   ],
   "source": [
    "models = pd.DataFrame([lr_acc, tr_acc, rf_acc, ab_acc, xg_acc, knn_acc, svm_acc],\n",
    "             index=['Logistic Regression','Decision Tree','Random Forest','Ada Boost ','XG Boost', 'KNN', 'SVC'],columns=['Accuracy'])\n",
    "models"
   ]
  },
  {
   "cell_type": "code",
   "execution_count": 50,
   "id": "504264b4",
   "metadata": {},
   "outputs": [
    {
     "data": {
      "text/plain": [
       "XG Boost               0.991308\n",
       "Random Forest          0.990236\n",
       "KNN                    0.989672\n",
       "SVC                    0.989220\n",
       "Decision Tree          0.982673\n",
       "Ada Boost              0.975449\n",
       "Logistic Regression    0.855627\n",
       "Name: Accuracy, dtype: float64"
      ]
     },
     "execution_count": 50,
     "metadata": {},
     "output_type": "execute_result"
    }
   ],
   "source": [
    "models.Accuracy.sort_values(ascending=False)"
   ]
  },
  {
   "cell_type": "code",
   "execution_count": 51,
   "id": "50b7033a",
   "metadata": {
    "scrolled": true
   },
   "outputs": [
    {
     "data": {
      "image/png": "[encoded data removed]",
      "text/plain": [
       "<Figure size 432x288 with 1 Axes>"
      ]
     },
     "metadata": {
      "needs_background": "light"
     },
     "output_type": "display_data"
    }
   ],
   "source": [
    "sns.barplot(x=models.Accuracy.sort_values(ascending=False).values,y = models.Accuracy.sort_values(ascending=False).index)\n",
    "plt.tight_layout()"
   ]
  },
  {
   "cell_type": "markdown",
   "id": "9897480a",
   "metadata": {},
   "source": [
    "### HyperParameter Tuning"
   ]
  },
  {
   "cell_type": "code",
   "execution_count": 52,
   "id": "784aeced",
   "metadata": {},
   "outputs": [
    {
     "name": "stdout",
     "output_type": "stream",
     "text": [
      "Fitting 3 folds for each of 100 candidates, totalling 300 fits\n",
      "Best paramters: {'reg_lambda': 51.2, 'reg_alpha': 0.1, 'n_estimators': 130, 'learning_rate': 0.6, 'gamma': 0.2})\n"
     ]
    }
   ],
   "source": [
    "param_grid = {'gamma': [0,0.1,0.2,0.4,0.8,1.6,3.2,6.4,12.8,25.6,51.2,102.4, 200],\n",
    "              'learning_rate': [0.01, 0.03, 0.06, 0.1, 0.15, 0.2, 0.25, 0.300000012, 0.4, 0.5, 0.6, 0.7],\n",
    "              'n_estimators': [50,65,80,100,115,130,150],\n",
    "              'reg_alpha': [0,0.1,0.2,0.4,0.8,1.6,3.2,6.4,12.8,25.6,51.2,102.4,200],\n",
    "              'reg_lambda': [0,0.1,0.2,0.4,0.8,1.6,3.2,6.4,12.8,25.6,51.2,102.4,200]}\n",
    "\n",
    "XGB=XGBClassifier(random_state=42)\n",
    "rcv= RandomizedSearchCV(estimator=XGB, scoring='f1',param_distributions=param_grid, n_iter=100, cv=3, \n",
    "                               verbose=2, random_state=42, n_jobs=-1)\n",
    "rcv.fit(X_train, y_train)##training data on randomsearch cv\n",
    "cv_best_params = rcv.best_params_##it will give you best parameters \n",
    "print(f\"Best paramters: {cv_best_params})\")##printing  best parameters"
   ]
  },
  {
   "cell_type": "code",
   "execution_count": 56,
   "id": "b6745c4c",
   "metadata": {},
   "outputs": [
    {
     "data": {
      "text/plain": [
       "0.9917033525228581"
      ]
     },
     "execution_count": 56,
     "metadata": {},
     "output_type": "execute_result"
    },
    {
     "name": "stdout",
     "output_type": "stream",
     "text": [
      "[CV] END gamma=12.8, learning_rate=0.300000012, n_estimators=50, reg_alpha=12.8, reg_lambda=1.6; total time=   7.7s\n",
      "[CV] END gamma=25.6, learning_rate=0.1, n_estimators=100, reg_alpha=12.8, reg_lambda=12.8; total time=  13.1s\n",
      "[CV] END gamma=6.4, learning_rate=0.1, n_estimators=115, reg_alpha=6.4, reg_lambda=3.2; total time=  15.1s\n",
      "[CV] END gamma=12.8, learning_rate=0.2, n_estimators=80, reg_alpha=0.8, reg_lambda=3.2; total time=  10.3s\n",
      "[CV] END gamma=0.4, learning_rate=0.6, n_estimators=80, reg_alpha=51.2, reg_lambda=0; total time=   6.6s\n",
      "[CV] END gamma=25.6, learning_rate=0.4, n_estimators=50, reg_alpha=12.8, reg_lambda=1.6; total time=   7.1s\n",
      "[CV] END gamma=3.2, learning_rate=0.03, n_estimators=150, reg_alpha=25.6, reg_lambda=12.8; total time=  22.7s\n",
      "[CV] END gamma=6.4, learning_rate=0.7, n_estimators=80, reg_alpha=0, reg_lambda=0.8; total time=  10.3s\n",
      "[CV] END gamma=200, learning_rate=0.15, n_estimators=50, reg_alpha=25.6, reg_lambda=0.2; total time=   6.0s\n",
      "[CV] END gamma=200, learning_rate=0.15, n_estimators=50, reg_alpha=25.6, reg_lambda=0.2; total time=   5.9s\n",
      "[CV] END gamma=0.1, learning_rate=0.03, n_estimators=100, reg_alpha=51.2, reg_lambda=6.4; total time=  13.0s\n",
      "[CV] END gamma=0.8, learning_rate=0.4, n_estimators=130, reg_alpha=25.6, reg_lambda=102.4; total time=  15.5s\n",
      "[CV] END gamma=0.8, learning_rate=0.25, n_estimators=130, reg_alpha=6.4, reg_lambda=0.2; total time=  16.1s\n",
      "[CV] END gamma=0, learning_rate=0.01, n_estimators=115, reg_alpha=6.4, reg_lambda=0.2; total time=  14.1s\n",
      "[CV] END gamma=0.8, learning_rate=0.25, n_estimators=150, reg_alpha=0.2, reg_lambda=0.4; total time=  17.8s\n",
      "[CV] END gamma=0, learning_rate=0.15, n_estimators=100, reg_alpha=1.6, reg_lambda=6.4; total time=  12.7s\n",
      "[CV] END gamma=6.4, learning_rate=0.1, n_estimators=80, reg_alpha=6.4, reg_lambda=1.6; total time=  10.4s\n",
      "[CV] END gamma=102.4, learning_rate=0.1, n_estimators=50, reg_alpha=0.8, reg_lambda=12.8; total time=   6.5s\n",
      "[CV] END gamma=25.6, learning_rate=0.06, n_estimators=80, reg_alpha=51.2, reg_lambda=51.2; total time=  10.1s\n",
      "[CV] END gamma=1.6, learning_rate=0.7, n_estimators=80, reg_alpha=102.4, reg_lambda=0.8; total time=   7.7s\n",
      "[CV] END gamma=1.6, learning_rate=0.7, n_estimators=80, reg_alpha=102.4, reg_lambda=0.8; total time=   4.5s\n",
      "[CV] END gamma=51.2, learning_rate=0.25, n_estimators=80, reg_alpha=12.8, reg_lambda=0.4; total time=  12.6s\n",
      "[CV] END gamma=51.2, learning_rate=0.25, n_estimators=80, reg_alpha=12.8, reg_lambda=0.4; total time=  11.8s\n",
      "[CV] END gamma=0, learning_rate=0.06, n_estimators=80, reg_alpha=0.4, reg_lambda=0.8; total time=  14.1s\n",
      "[CV] END gamma=12.8, learning_rate=0.4, n_estimators=115, reg_alpha=102.4, reg_lambda=0.8; total time=  15.0s\n",
      "[CV] END gamma=0.8, learning_rate=0.300000012, n_estimators=100, reg_alpha=102.4, reg_lambda=51.2; total time=   6.7s\n",
      "[CV] END gamma=25.6, learning_rate=0.03, n_estimators=150, reg_alpha=0.1, reg_lambda=6.4; total time=  19.5s\n",
      "[CV] END gamma=12.8, learning_rate=0.15, n_estimators=150, reg_alpha=0.2, reg_lambda=3.2; total time=  18.7s\n",
      "[CV] END gamma=0.8, learning_rate=0.01, n_estimators=50, reg_alpha=6.4, reg_lambda=102.4; total time=   5.7s\n",
      "[CV] END gamma=0.8, learning_rate=0.4, n_estimators=100, reg_alpha=0.4, reg_lambda=25.6; total time=  13.5s\n",
      "[CV] END gamma=0.2, learning_rate=0.06, n_estimators=115, reg_alpha=25.6, reg_lambda=0; total time=  16.2s\n",
      "[CV] END gamma=0, learning_rate=0.5, n_estimators=115, reg_alpha=1.6, reg_lambda=3.2; total time=  16.4s\n",
      "[CV] END gamma=0, learning_rate=0.1, n_estimators=80, reg_alpha=0, reg_lambda=0.4; total time=  11.9s\n",
      "[CV] END gamma=0.2, learning_rate=0.7, n_estimators=65, reg_alpha=0.2, reg_lambda=3.2; total time=   9.2s\n",
      "[CV] END gamma=3.2, learning_rate=0.03, n_estimators=130, reg_alpha=12.8, reg_lambda=1.6; total time=  19.3s\n",
      "[CV] END gamma=0, learning_rate=0.300000012, n_estimators=100, reg_alpha=0, reg_lambda=0.8; total time=  12.4s\n",
      "[CV] END gamma=200, learning_rate=0.1, n_estimators=65, reg_alpha=0, reg_lambda=0.4; total time=   8.9s\n",
      "[CV] END gamma=51.2, learning_rate=0.6, n_estimators=150, reg_alpha=200, reg_lambda=25.6; total time=  20.2s\n",
      "[CV] END gamma=12.8, learning_rate=0.5, n_estimators=50, reg_alpha=0.2, reg_lambda=0.2; total time=   6.1s\n",
      "[CV] END gamma=12.8, learning_rate=0.2, n_estimators=115, reg_alpha=0.1, reg_lambda=0.2; total time=  20.2s\n",
      "[CV] END gamma=51.2, learning_rate=0.6, n_estimators=115, reg_alpha=3.2, reg_lambda=102.4; total time=  15.5s\n",
      "[CV] END gamma=0.4, learning_rate=0.2, n_estimators=50, reg_alpha=0.8, reg_lambda=0; total time=   6.8s\n",
      "[CV] END gamma=6.4, learning_rate=0.5, n_estimators=80, reg_alpha=102.4, reg_lambda=51.2; total time=   8.9s\n",
      "[CV] END gamma=6.4, learning_rate=0.25, n_estimators=50, reg_alpha=0.8, reg_lambda=12.8; total time=   7.0s\n",
      "[CV] END gamma=1.6, learning_rate=0.300000012, n_estimators=115, reg_alpha=51.2, reg_lambda=51.2; total time=   9.7s\n",
      "[CV] END gamma=0.2, learning_rate=0.25, n_estimators=80, reg_alpha=6.4, reg_lambda=0.1; total time=  10.7s\n",
      "[CV] END gamma=0.1, learning_rate=0.15, n_estimators=100, reg_alpha=0.1, reg_lambda=25.6; total time=  13.0s\n",
      "[CV] END gamma=0.4, learning_rate=0.4, n_estimators=130, reg_alpha=6.4, reg_lambda=6.4; total time=  16.7s\n",
      "[CV] END gamma=200, learning_rate=0.03, n_estimators=65, reg_alpha=25.6, reg_lambda=12.8; total time=   8.0s\n",
      "[CV] END gamma=0, learning_rate=0.4, n_estimators=65, reg_alpha=0.8, reg_lambda=6.4; total time=   8.1s\n",
      "[CV] END gamma=200, learning_rate=0.2, n_estimators=100, reg_alpha=0.8, reg_lambda=0.8; total time=  13.2s\n",
      "[CV] END gamma=3.2, learning_rate=0.7, n_estimators=150, reg_alpha=6.4, reg_lambda=1.6; total time=  20.0s\n",
      "[CV] END gamma=0, learning_rate=0.5, n_estimators=130, reg_alpha=0.4, reg_lambda=0.4; total time=  17.1s\n",
      "[CV] END gamma=0.2, learning_rate=0.6, n_estimators=65, reg_alpha=0, reg_lambda=3.2; total time=   7.9s\n",
      "[CV] END gamma=3.2, learning_rate=0.2, n_estimators=65, reg_alpha=25.6, reg_lambda=51.2; total time=   8.5s\n",
      "[CV] END gamma=0.4, learning_rate=0.6, n_estimators=150, reg_alpha=200, reg_lambda=0.4; total time=   7.5s\n",
      "[CV] END gamma=0.4, learning_rate=0.6, n_estimators=150, reg_alpha=200, reg_lambda=0.4; total time=   8.0s\n",
      "[CV] END gamma=0.1, learning_rate=0.300000012, n_estimators=115, reg_alpha=6.4, reg_lambda=0.4; total time=  10.2s\n",
      "[CV] END gamma=0.1, learning_rate=0.4, n_estimators=100, reg_alpha=51.2, reg_lambda=0.4; total time=   5.9s\n",
      "[CV] END gamma=1.6, learning_rate=0.5, n_estimators=150, reg_alpha=200, reg_lambda=0.1; total time=   7.5s\n",
      "[CV] END gamma=3.2, learning_rate=0.03, n_estimators=80, reg_alpha=12.8, reg_lambda=3.2; total time=  11.5s\n",
      "[CV] END gamma=3.2, learning_rate=0.03, n_estimators=80, reg_alpha=12.8, reg_lambda=3.2; total time=  11.4s\n",
      "[CV] END gamma=102.4, learning_rate=0.7, n_estimators=130, reg_alpha=200, reg_lambda=0.1; total time=  16.0s\n",
      "[CV] END gamma=25.6, learning_rate=0.6, n_estimators=50, reg_alpha=0.4, reg_lambda=51.2; total time=   8.3s\n",
      "[CV] END gamma=0.4, learning_rate=0.300000012, n_estimators=80, reg_alpha=0, reg_lambda=6.4; total time=  13.0s\n",
      "[CV] END gamma=12.8, learning_rate=0.03, n_estimators=50, reg_alpha=0, reg_lambda=0.1; total time=   6.7s\n",
      "[CV] END gamma=0.4, learning_rate=0.2, n_estimators=80, reg_alpha=102.4, reg_lambda=0; total time=   7.8s\n",
      "[CV] END gamma=0, learning_rate=0.06, n_estimators=65, reg_alpha=0.2, reg_lambda=6.4; total time=   9.9s\n",
      "[CV] END gamma=12.8, learning_rate=0.2, n_estimators=100, reg_alpha=200, reg_lambda=1.6; total time=  11.4s\n",
      "[CV] END gamma=25.6, learning_rate=0.2, n_estimators=50, reg_alpha=3.2, reg_lambda=51.2; total time=   8.0s\n",
      "[CV] END gamma=12.8, learning_rate=0.5, n_estimators=50, reg_alpha=200, reg_lambda=0.8; total time=   5.8s\n",
      "[CV] END gamma=200, learning_rate=0.300000012, n_estimators=100, reg_alpha=25.6, reg_lambda=1.6; total time=  14.6s\n",
      "[CV] END gamma=0.2, learning_rate=0.5, n_estimators=80, reg_alpha=25.6, reg_lambda=51.2; total time=   8.0s\n",
      "[CV] END gamma=102.4, learning_rate=0.25, n_estimators=130, reg_alpha=51.2, reg_lambda=0.2; total time=  19.1s\n",
      "[CV] END gamma=0.8, learning_rate=0.15, n_estimators=80, reg_alpha=0, reg_lambda=0.8; total time=  11.8s\n",
      "[CV] END gamma=25.6, learning_rate=0.03, n_estimators=80, reg_alpha=0.2, reg_lambda=0.1; total time=   9.9s\n",
      "[CV] END gamma=0.0001, learning_rate=0.75, n_estimators=135, reg_alpha=0.1, reg_lambda=30.5; total time=  20.9s\n",
      "[CV] END gamma=0.33, learning_rate=0.1, n_estimators=125, reg_alpha=0.01, reg_lambda=51.5; total time=  21.3s\n",
      "[CV] END gamma=0.35, learning_rate=0.4, n_estimators=130, reg_alpha=0.0001, reg_lambda=50.5; total time=  21.1s\n",
      "[CV] END gamma=0.09, learning_rate=0.85, n_estimators=125, reg_alpha=0.0001, reg_lambda=30.5; total time=  17.5s\n",
      "[CV] END gamma=0.35, learning_rate=0.8, n_estimators=110, reg_alpha=0.001, reg_lambda=51.0; total time=  15.0s\n",
      "[CV] END gamma=0.01, learning_rate=0.1, n_estimators=100, reg_alpha=0.09, reg_lambda=40.0; total time=  13.3s\n",
      "[CV] END gamma=0.2, learning_rate=0.5, n_estimators=110, reg_alpha=0.01, reg_lambda=52.5; total time=  17.6s\n",
      "[CV] END gamma=0.1, learning_rate=0.75, n_estimators=130, reg_alpha=0.009, reg_lambda=53; total time=  17.5s\n",
      "[CV] END gamma=0.0001, learning_rate=0.8, n_estimators=100, reg_alpha=1e-05, reg_lambda=52.0; total time=  13.3s\n",
      "[CV] END gamma=0.1, learning_rate=0.55, n_estimators=125, reg_alpha=0.01, reg_lambda=53.0; total time=  17.0s\n",
      "[CV] END gamma=0.3, learning_rate=0.4, n_estimators=120, reg_alpha=0.1, reg_lambda=53.5; total time=  16.4s\n",
      "[CV] END gamma=0.009, learning_rate=0.9, n_estimators=100, reg_alpha=0.001, reg_lambda=40.5; total time=  13.6s\n",
      "[CV] END gamma=0.009, learning_rate=0.55, n_estimators=100, reg_alpha=0.01, reg_lambda=30.5; total time=  13.8s\n",
      "[CV] END gamma=0.009, learning_rate=0.75, n_estimators=125, reg_alpha=0.09, reg_lambda=53; total time=  16.0s\n",
      "[CV] END gamma=0.3, learning_rate=0.45, n_estimators=120, reg_alpha=0.009, reg_lambda=51.0; total time=  16.5s\n",
      "[CV] END gamma=1e-05, learning_rate=0.7, n_estimators=120, reg_alpha=0.001, reg_lambda=52.0; total time=  16.0s\n",
      "[CV] END gamma=0.33, learning_rate=0.9, n_estimators=145, reg_alpha=0.09, reg_lambda=51.0; total time=  18.5s\n",
      "[CV] END gamma=0.09, learning_rate=0.75, n_estimators=140, reg_alpha=0.0001, reg_lambda=0.0; total time=  15.4s\n",
      "[CV] END gamma=0.2, learning_rate=0.35, n_estimators=110, reg_alpha=0.001, reg_lambda=54.0; total time=  15.2s\n",
      "[CV] END gamma=0.3, learning_rate=0.7, n_estimators=140, reg_alpha=0.01, reg_lambda=50.5; total time=  18.4s\n",
      "[CV] END gamma=0.2, learning_rate=0.85, n_estimators=140, reg_alpha=0.0001, reg_lambda=40.0; total time=  18.1s\n",
      "[CV] END gamma=0.001, learning_rate=0.8, n_estimators=110, reg_alpha=0.009, reg_lambda=53; total time=  14.8s\n",
      "[CV] END gamma=0.0001, learning_rate=0.1, n_estimators=120, reg_alpha=0.01, reg_lambda=53.0; total time=  17.5s\n",
      "[CV] END gamma=1e-05, learning_rate=0.5, n_estimators=140, reg_alpha=0.0001, reg_lambda=0.0; total time=  16.5s\n",
      "[CV] END gamma=0.009, learning_rate=0.5, n_estimators=120, reg_alpha=1e-05, reg_lambda=30.5; total time=  15.8s\n",
      "[CV] END gamma=0.35, learning_rate=0.1, n_estimators=120, reg_alpha=0.0001, reg_lambda=53.5; total time=  15.5s\n",
      "[CV] END gamma=0.01, learning_rate=0.85, n_estimators=110, reg_alpha=1e-05, reg_lambda=53.0; total time=  14.3s\n",
      "[CV] END gamma=0.3, learning_rate=0.4, n_estimators=135, reg_alpha=1e-05, reg_lambda=0.0; total time=  16.2s\n",
      "[CV] END gamma=0.3, learning_rate=0.35, n_estimators=140, reg_alpha=1e-05, reg_lambda=53; total time=  20.0s\n",
      "[CV] END gamma=0.01, learning_rate=0.55, n_estimators=120, reg_alpha=0.09, reg_lambda=30.5; total time=  16.9s\n",
      "[CV] END gamma=0.0001, learning_rate=0.45, n_estimators=135, reg_alpha=0.0001, reg_lambda=51.5; total time=  18.4s\n",
      "[CV] END gamma=1e-05, learning_rate=0.6, n_estimators=120, reg_alpha=0.09, reg_lambda=50.5; total time=  15.6s\n",
      "[CV] END gamma=0.1, learning_rate=0.6, n_estimators=110, reg_alpha=0.0001, reg_lambda=51.5; total time=  14.9s\n",
      "[CV] END gamma=0.33, learning_rate=0.45, n_estimators=110, reg_alpha=0.009, reg_lambda=53.5; total time=  14.6s\n",
      "[CV] END gamma=0.2, learning_rate=0.45, n_estimators=145, reg_alpha=0.01, reg_lambda=51.0; total time=  18.7s\n",
      "[CV] END gamma=0.0001, learning_rate=0.4, n_estimators=130, reg_alpha=0.09, reg_lambda=51.5; total time=  17.3s\n",
      "[CV] END gamma=1e-05, learning_rate=0.1, n_estimators=100, reg_alpha=0.1, reg_lambda=0.0; total time=  13.0s\n",
      "[CV] END gamma=0.1, learning_rate=0.7, n_estimators=100, reg_alpha=0.01, reg_lambda=53.0; total time=  12.5s\n",
      "[CV] END gamma=0.35, learning_rate=0.4, n_estimators=110, reg_alpha=0.0001, reg_lambda=52.5; total time=  14.7s\n",
      "[CV] END gamma=0.001, learning_rate=0.66, n_estimators=140, reg_alpha=0.1, reg_lambda=50.5; total time=  18.1s\n",
      "[CV] END gamma=0.001, learning_rate=0.66, n_estimators=120, reg_alpha=1e-05, reg_lambda=51.0; total time=  15.7s\n",
      "[CV] END gamma=0.09, learning_rate=0.4, n_estimators=135, reg_alpha=0.1, reg_lambda=30.5; total time=  17.6s\n",
      "[CV] END gamma=0.0001, learning_rate=0.85, n_estimators=130, reg_alpha=0.01, reg_lambda=54.0; total time=  16.7s\n",
      "[CV] END gamma=0.35, learning_rate=0.6, n_estimators=145, reg_alpha=0.009, reg_lambda=53.0; total time=  19.4s\n",
      "[CV] END gamma=0.2, learning_rate=0.8, n_estimators=125, reg_alpha=0.09, reg_lambda=40.0; total time=  16.7s\n",
      "[CV] END gamma=0.3, learning_rate=0.4, n_estimators=110, reg_alpha=0.1, reg_lambda=40.5; total time=  14.8s\n",
      "[CV] END gamma=0.2, learning_rate=0.6, n_estimators=145, reg_alpha=0.0001, reg_lambda=53; total time=  18.9s\n",
      "[CV] END gamma=0.001, learning_rate=0.35, n_estimators=135, reg_alpha=0.09, reg_lambda=53; total time=  17.9s\n",
      "[CV] END gamma=0.3, learning_rate=0.35, n_estimators=125, reg_alpha=0.001, reg_lambda=53.0; total time=  19.4s\n",
      "[CV] END gamma=0.35, learning_rate=0.55, n_estimators=125, reg_alpha=0.1, reg_lambda=0.0; total time= 4.1min\n",
      "[CV] END gamma=0.09, learning_rate=0.7, n_estimators=140, reg_alpha=0.001, reg_lambda=52.0; total time=  26.3s\n",
      "[CV] END gamma=0.1, learning_rate=0.5, n_estimators=145, reg_alpha=0.009, reg_lambda=40.5; total time=  22.3s\n",
      "[CV] END gamma=0.1, learning_rate=0.85, n_estimators=140, reg_alpha=0.09, reg_lambda=53.5; total time=  19.0s\n",
      "[CV] END gamma=0.3, learning_rate=0.75, n_estimators=125, reg_alpha=0.1, reg_lambda=54.0; total time=  18.0s\n",
      "[CV] END gamma=0.3, learning_rate=0.66, n_estimators=140, reg_alpha=0.01, reg_lambda=53.0; total time=  18.8s\n",
      "[CV] END gamma=0.01, learning_rate=0.9, n_estimators=145, reg_alpha=0.001, reg_lambda=40.5; total time=  19.2s\n",
      "[CV] END gamma=0.2, learning_rate=0.8, n_estimators=130, reg_alpha=1e-05, reg_lambda=40.0; total time=  19.4s\n",
      "[CV] END gamma=0.33, learning_rate=0.66, n_estimators=125, reg_alpha=0.0001, reg_lambda=51.0; total time=  17.0s\n",
      "[CV] END gamma=0.0001, learning_rate=0.45, n_estimators=140, reg_alpha=0.09, reg_lambda=50.5; total time=  18.6s\n",
      "[CV] END gamma=0.33, learning_rate=0.35, n_estimators=100, reg_alpha=0.0001, reg_lambda=53.0; total time=  13.4s\n",
      "[CV] END gamma=0.2, learning_rate=0.75, n_estimators=130, reg_alpha=0.0001, reg_lambda=53.0; total time=  31.3s\n",
      "[CV] END gamma=1e-05, learning_rate=0.4, n_estimators=125, reg_alpha=0.0001, reg_lambda=40.5; total time=  18.2s\n",
      "[CV] END gamma=0.2, learning_rate=0.66, n_estimators=120, reg_alpha=0.1, reg_lambda=53.5; total time=  20.2s\n",
      "[CV] END gamma=0.2, learning_rate=0.66, n_estimators=120, reg_alpha=0.009, reg_lambda=52.5; total time=  24.1s\n",
      "[CV] END gamma=0.001, learning_rate=0.6, n_estimators=145, reg_alpha=0.01, reg_lambda=50.5; total time=  24.3s\n",
      "[CV] END gamma=0.001, learning_rate=0.7, n_estimators=125, reg_alpha=1e-05, reg_lambda=50.5; total time=  21.7s\n",
      "[CV] END gamma=0.35, learning_rate=0.8, n_estimators=135, reg_alpha=0.009, reg_lambda=40.0; total time=  17.9s\n",
      "[CV] END gamma=1e-05, learning_rate=0.1, n_estimators=135, reg_alpha=0.09, reg_lambda=54.0; total time=  23.9s\n",
      "[CV] END gamma=0.2, learning_rate=0.45, n_estimators=110, reg_alpha=0.009, reg_lambda=51.5; total time=  18.9s\n",
      "[CV] END gamma=0.009, learning_rate=0.8, n_estimators=130, reg_alpha=1e-05, reg_lambda=0.0; total time=  19.3s\n",
      "[CV] END gamma=0.2, learning_rate=0.45, n_estimators=110, reg_alpha=0.1, reg_lambda=0.0; total time=  14.4s\n",
      "[CV] END gamma=0.1, learning_rate=0.4, n_estimators=135, reg_alpha=0.1, reg_lambda=52.5; total time=  19.5s\n",
      "[CV] END gamma=0.1, learning_rate=0.35, n_estimators=120, reg_alpha=1e-05, reg_lambda=51.5; total time=  19.2s\n",
      "[CV] END gamma=0.09, learning_rate=0.6, n_estimators=120, reg_alpha=0.09, reg_lambda=52.0; total time=  19.5s\n",
      "[CV] END gamma=51.2, learning_rate=0.15, n_estimators=65, reg_alpha=0, reg_lambda=3.2; total time=   8.9s\n",
      "[CV] END gamma=25.6, learning_rate=0.1, n_estimators=100, reg_alpha=12.8, reg_lambda=12.8; total time=  13.1s\n",
      "[CV] END gamma=6.4, learning_rate=0.1, n_estimators=115, reg_alpha=6.4, reg_lambda=3.2; total time=  15.2s\n",
      "[CV] END gamma=6.4, learning_rate=0.5, n_estimators=65, reg_alpha=3.2, reg_lambda=0.2; total time=   8.4s\n",
      "[CV] END gamma=0.4, learning_rate=0.6, n_estimators=80, reg_alpha=51.2, reg_lambda=0; total time=   3.7s\n",
      "[CV] END gamma=25.6, learning_rate=0.4, n_estimators=50, reg_alpha=12.8, reg_lambda=1.6; total time=   6.2s\n",
      "[CV] END gamma=102.4, learning_rate=0.6, n_estimators=65, reg_alpha=12.8, reg_lambda=6.4; total time=   8.2s\n",
      "[CV] END gamma=6.4, learning_rate=0.7, n_estimators=80, reg_alpha=0, reg_lambda=0.8; total time=  12.5s\n",
      "[CV] END gamma=6.4, learning_rate=0.7, n_estimators=80, reg_alpha=0, reg_lambda=0.8; total time=  10.9s\n",
      "[CV] END gamma=12.8, learning_rate=0.6, n_estimators=130, reg_alpha=3.2, reg_lambda=0.4; total time=  15.0s\n",
      "[CV] END gamma=0.1, learning_rate=0.03, n_estimators=100, reg_alpha=51.2, reg_lambda=6.4; total time=  12.9s\n",
      "[CV] END gamma=0.2, learning_rate=0.6, n_estimators=130, reg_alpha=0.1, reg_lambda=51.2; total time=  16.9s\n",
      "[CV] END gamma=0.8, learning_rate=0.25, n_estimators=130, reg_alpha=6.4, reg_lambda=0.2; total time=  16.1s\n",
      "[CV] END gamma=0, learning_rate=0.01, n_estimators=115, reg_alpha=6.4, reg_lambda=0.2; total time=  14.0s\n",
      "[CV] END gamma=0.8, learning_rate=0.06, n_estimators=100, reg_alpha=3.2, reg_lambda=0; total time=  12.7s\n",
      "[CV] END gamma=0, learning_rate=0.15, n_estimators=100, reg_alpha=1.6, reg_lambda=6.4; total time=  12.8s\n",
      "[CV] END gamma=6.4, learning_rate=0.1, n_estimators=80, reg_alpha=6.4, reg_lambda=1.6; total time=   9.9s\n",
      "[CV] END gamma=3.2, learning_rate=0.01, n_estimators=50, reg_alpha=25.6, reg_lambda=200; total time=   6.1s\n",
      "[CV] END gamma=102.4, learning_rate=0.1, n_estimators=50, reg_alpha=0.8, reg_lambda=12.8; total time=   6.1s\n",
      "[CV] END gamma=25.6, learning_rate=0.06, n_estimators=80, reg_alpha=51.2, reg_lambda=51.2; total time=  10.3s\n",
      "[CV] END gamma=102.4, learning_rate=0.01, n_estimators=100, reg_alpha=1.6, reg_lambda=0.2; total time=  12.9s\n",
      "[CV] END gamma=12.8, learning_rate=0.300000012, n_estimators=115, reg_alpha=0, reg_lambda=200; total time=  17.4s\n",
      "[CV] END gamma=25.6, learning_rate=0.06, n_estimators=80, reg_alpha=0.8, reg_lambda=0.4; total time=  14.7s\n",
      "[CV] END gamma=0, learning_rate=0.06, n_estimators=80, reg_alpha=0.4, reg_lambda=0.8; total time=  13.7s\n",
      "[CV] END gamma=0.8, learning_rate=0.300000012, n_estimators=100, reg_alpha=102.4, reg_lambda=51.2; total time=   8.2s\n",
      "[CV] END gamma=0.8, learning_rate=0.300000012, n_estimators=100, reg_alpha=102.4, reg_lambda=51.2; total time=   7.0s\n",
      "[CV] END gamma=1.6, learning_rate=0.7, n_estimators=100, reg_alpha=102.4, reg_lambda=102.4; total time=  10.4s\n",
      "[CV] END gamma=1.6, learning_rate=0.7, n_estimators=100, reg_alpha=102.4, reg_lambda=102.4; total time=   6.6s\n",
      "[CV] END gamma=102.4, learning_rate=0.5, n_estimators=50, reg_alpha=0.4, reg_lambda=0.4; total time=   7.0s\n",
      "[CV] END gamma=12.8, learning_rate=0.15, n_estimators=150, reg_alpha=0.2, reg_lambda=3.2; total time=  18.3s\n",
      "[CV] END gamma=0.8, learning_rate=0.01, n_estimators=50, reg_alpha=6.4, reg_lambda=102.4; total time=   5.7s\n",
      "[CV] END gamma=0.2, learning_rate=0.06, n_estimators=115, reg_alpha=25.6, reg_lambda=0; total time=  16.7s\n",
      "[CV] END gamma=12.8, learning_rate=0.06, n_estimators=65, reg_alpha=12.8, reg_lambda=25.6; total time=   8.4s\n",
      "[CV] END gamma=0, learning_rate=0.5, n_estimators=115, reg_alpha=1.6, reg_lambda=3.2; total time=  16.3s\n",
      "[CV] END gamma=0.8, learning_rate=0.6, n_estimators=80, reg_alpha=51.2, reg_lambda=51.2; total time=   8.2s\n",
      "[CV] END gamma=0.2, learning_rate=0.7, n_estimators=65, reg_alpha=0.2, reg_lambda=3.2; total time=   9.3s\n",
      "[CV] END gamma=3.2, learning_rate=0.03, n_estimators=130, reg_alpha=12.8, reg_lambda=1.6; total time=  18.3s\n",
      "[CV] END gamma=25.6, learning_rate=0.7, n_estimators=130, reg_alpha=1.6, reg_lambda=200; total time=  15.5s\n",
      "[CV] END gamma=200, learning_rate=0.1, n_estimators=65, reg_alpha=0, reg_lambda=0.4; total time=   9.0s\n",
      "[CV] END gamma=51.2, learning_rate=0.6, n_estimators=150, reg_alpha=200, reg_lambda=25.6; total time=  15.2s\n",
      "[CV] END gamma=0.8, learning_rate=0.5, n_estimators=115, reg_alpha=0.4, reg_lambda=0.2; total time=  14.5s\n",
      "[CV] END gamma=12.8, learning_rate=0.2, n_estimators=115, reg_alpha=0.1, reg_lambda=0.2; total time=  20.0s\n",
      "[CV] END gamma=12.8, learning_rate=0.5, n_estimators=50, reg_alpha=102.4, reg_lambda=0; total time=   5.3s\n",
      "[CV] END gamma=12.8, learning_rate=0.5, n_estimators=50, reg_alpha=102.4, reg_lambda=0; total time=   4.4s\n",
      "[CV] END gamma=0.4, learning_rate=0.2, n_estimators=50, reg_alpha=0.8, reg_lambda=0; total time=   7.0s\n",
      "[CV] END gamma=0.1, learning_rate=0.06, n_estimators=100, reg_alpha=3.2, reg_lambda=200; total time=  13.2s\n",
      "[CV] END gamma=6.4, learning_rate=0.25, n_estimators=50, reg_alpha=0.8, reg_lambda=12.8; total time=   6.9s\n",
      "[CV] END gamma=1.6, learning_rate=0.300000012, n_estimators=115, reg_alpha=51.2, reg_lambda=51.2; total time=   9.9s\n",
      "[CV] END gamma=0.2, learning_rate=0.25, n_estimators=80, reg_alpha=6.4, reg_lambda=0.1; total time=  10.7s\n",
      "[CV] END gamma=1.6, learning_rate=0.25, n_estimators=130, reg_alpha=0.2, reg_lambda=0.8; total time=  15.3s\n",
      "[CV] END gamma=0.4, learning_rate=0.4, n_estimators=130, reg_alpha=6.4, reg_lambda=6.4; total time=  16.5s\n",
      "[CV] END gamma=200, learning_rate=0.03, n_estimators=65, reg_alpha=25.6, reg_lambda=12.8; total time=   7.6s\n",
      "[CV] END gamma=200, learning_rate=0.2, n_estimators=100, reg_alpha=0.8, reg_lambda=0.8; total time=  13.5s\n",
      "[CV] END gamma=0.2, learning_rate=0.300000012, n_estimators=80, reg_alpha=0.8, reg_lambda=0.2; total time=  10.5s\n",
      "[CV] END gamma=3.2, learning_rate=0.7, n_estimators=150, reg_alpha=6.4, reg_lambda=1.6; total time=  20.7s\n",
      "[CV] END gamma=0, learning_rate=0.5, n_estimators=130, reg_alpha=0.4, reg_lambda=0.4; total time=  16.3s\n",
      "[CV] END gamma=3.2, learning_rate=0.2, n_estimators=65, reg_alpha=25.6, reg_lambda=51.2; total time=   8.3s\n",
      "[CV] END gamma=0, learning_rate=0.01, n_estimators=150, reg_alpha=0, reg_lambda=0.2; total time=  21.3s\n",
      "[CV] END gamma=0.1, learning_rate=0.300000012, n_estimators=115, reg_alpha=6.4, reg_lambda=0.4; total time=  11.0s\n",
      "[CV] END gamma=1.6, learning_rate=0.5, n_estimators=150, reg_alpha=200, reg_lambda=0.1; total time=   7.6s\n",
      "[CV] END gamma=0, learning_rate=0.300000012, n_estimators=130, reg_alpha=51.2, reg_lambda=200; total time=  14.2s\n",
      "[CV] END gamma=0, learning_rate=0.6, n_estimators=80, reg_alpha=0.1, reg_lambda=0.8; total time=  11.4s\n",
      "[CV] END gamma=102.4, learning_rate=0.7, n_estimators=130, reg_alpha=200, reg_lambda=0.1; total time=  16.9s\n",
      "[CV] END gamma=0.2, learning_rate=0.4, n_estimators=65, reg_alpha=0.1, reg_lambda=3.2; total time=  10.4s\n",
      "[CV] END gamma=0.4, learning_rate=0.300000012, n_estimators=80, reg_alpha=0, reg_lambda=6.4; total time=  12.7s\n",
      "[CV] END gamma=0.4, learning_rate=0.2, n_estimators=80, reg_alpha=102.4, reg_lambda=0; total time=   7.1s\n",
      "[CV] END gamma=0.2, learning_rate=0.6, n_estimators=100, reg_alpha=0.4, reg_lambda=3.2; total time=  14.2s\n",
      "[CV] END gamma=0, learning_rate=0.06, n_estimators=65, reg_alpha=0.2, reg_lambda=6.4; total time=  11.0s\n",
      "[CV] END gamma=12.8, learning_rate=0.2, n_estimators=100, reg_alpha=200, reg_lambda=1.6; total time=  10.7s\n",
      "[CV] END gamma=200, learning_rate=0.300000012, n_estimators=100, reg_alpha=25.6, reg_lambda=1.6; total time=  14.0s\n",
      "[CV] END gamma=25.6, learning_rate=0.300000012, n_estimators=65, reg_alpha=12.8, reg_lambda=200; total time=  10.1s\n",
      "[CV] END gamma=102.4, learning_rate=0.25, n_estimators=130, reg_alpha=51.2, reg_lambda=0.2; total time=  21.1s\n",
      "[CV] END gamma=0.8, learning_rate=0.15, n_estimators=80, reg_alpha=0, reg_lambda=0.8; total time=  11.6s\n",
      "[CV] END gamma=25.6, learning_rate=0.03, n_estimators=80, reg_alpha=0.2, reg_lambda=0.1; total time=  10.1s\n",
      "[CV] END gamma=0.0001, learning_rate=0.75, n_estimators=135, reg_alpha=0.1, reg_lambda=30.5; total time=  21.2s\n",
      "[CV] END gamma=0.33, learning_rate=0.1, n_estimators=125, reg_alpha=0.01, reg_lambda=51.5; total time=  21.8s\n",
      "[CV] END gamma=0.35, learning_rate=0.4, n_estimators=130, reg_alpha=0.0001, reg_lambda=50.5; total time=  21.1s\n",
      "[CV] END gamma=1e-05, learning_rate=0.75, n_estimators=130, reg_alpha=0.09, reg_lambda=54.0; total time=  18.7s\n",
      "[CV] END gamma=0.35, learning_rate=0.8, n_estimators=110, reg_alpha=0.001, reg_lambda=51.0; total time=  15.4s\n",
      "[CV] END gamma=0.01, learning_rate=0.1, n_estimators=100, reg_alpha=0.09, reg_lambda=40.0; total time=  13.5s\n",
      "[CV] END gamma=0.1, learning_rate=0.75, n_estimators=130, reg_alpha=0.009, reg_lambda=53; total time=  19.8s\n",
      "[CV] END gamma=0.009, learning_rate=0.55, n_estimators=140, reg_alpha=0.0001, reg_lambda=52.5; total time=  18.6s\n",
      "[CV] END gamma=0.0001, learning_rate=0.8, n_estimators=100, reg_alpha=1e-05, reg_lambda=52.0; total time=  13.0s\n",
      "[CV] END gamma=0.3, learning_rate=0.4, n_estimators=120, reg_alpha=0.1, reg_lambda=53.5; total time=  16.4s\n",
      "[CV] END gamma=0.009, learning_rate=0.9, n_estimators=100, reg_alpha=0.001, reg_lambda=40.5; total time=  13.7s\n",
      "[CV] END gamma=1e-05, learning_rate=0.4, n_estimators=100, reg_alpha=0.01, reg_lambda=40.5; total time=  14.2s\n",
      "[CV] END gamma=0.009, learning_rate=0.55, n_estimators=100, reg_alpha=0.01, reg_lambda=30.5; total time=  13.5s\n",
      "[CV] END gamma=0.009, learning_rate=0.9, n_estimators=110, reg_alpha=0.01, reg_lambda=50.5; total time=  13.8s\n",
      "[CV] END gamma=0.009, learning_rate=0.9, n_estimators=110, reg_alpha=0.01, reg_lambda=50.5; total time=  15.3s\n",
      "[CV] END gamma=1e-05, learning_rate=0.7, n_estimators=120, reg_alpha=0.001, reg_lambda=52.0; total time=  16.2s\n",
      "[CV] END gamma=0.33, learning_rate=0.9, n_estimators=145, reg_alpha=0.09, reg_lambda=51.0; total time=  18.3s\n",
      "[CV] END gamma=0.09, learning_rate=0.75, n_estimators=140, reg_alpha=0.0001, reg_lambda=0.0; total time=  15.3s\n",
      "[CV] END gamma=0.2, learning_rate=0.35, n_estimators=110, reg_alpha=0.001, reg_lambda=54.0; total time=  15.1s\n",
      "[CV] END gamma=0.01, learning_rate=0.35, n_estimators=125, reg_alpha=0.001, reg_lambda=40.5; total time=  15.8s\n",
      "[CV] END gamma=0.2, learning_rate=0.85, n_estimators=140, reg_alpha=0.0001, reg_lambda=40.0; total time=  18.9s\n",
      "[CV] END gamma=0.001, learning_rate=0.8, n_estimators=110, reg_alpha=0.009, reg_lambda=53; total time=  14.6s\n",
      "[CV] END gamma=0.35, learning_rate=0.1, n_estimators=100, reg_alpha=0.001, reg_lambda=0.0; total time=  14.7s\n",
      "[CV] END gamma=1e-05, learning_rate=0.5, n_estimators=140, reg_alpha=0.0001, reg_lambda=0.0; total time=  16.4s\n",
      "[CV] END gamma=0.009, learning_rate=0.5, n_estimators=120, reg_alpha=1e-05, reg_lambda=30.5; total time=  16.0s\n",
      "[CV] END gamma=0.009, learning_rate=0.1, n_estimators=120, reg_alpha=0.0001, reg_lambda=53.0; total time=  15.7s\n",
      "[CV] END gamma=0.01, learning_rate=0.85, n_estimators=110, reg_alpha=1e-05, reg_lambda=53.0; total time=  13.9s\n",
      "[CV] END gamma=0.3, learning_rate=0.4, n_estimators=135, reg_alpha=1e-05, reg_lambda=0.0; total time=  15.6s\n",
      "[CV] END gamma=0.009, learning_rate=0.35, n_estimators=110, reg_alpha=1e-05, reg_lambda=53.5; total time=  15.2s\n",
      "[CV] END gamma=0.01, learning_rate=0.55, n_estimators=120, reg_alpha=0.09, reg_lambda=30.5; total time=  17.8s\n",
      "[CV] END gamma=0.0001, learning_rate=0.45, n_estimators=135, reg_alpha=0.0001, reg_lambda=51.5; total time=  19.4s\n",
      "[CV] END gamma=0.3, learning_rate=0.5, n_estimators=145, reg_alpha=0.0001, reg_lambda=53.0; total time=  19.1s\n",
      "[CV] END gamma=1e-05, learning_rate=0.6, n_estimators=120, reg_alpha=0.09, reg_lambda=50.5; total time=  15.6s\n",
      "[CV] END gamma=0.33, learning_rate=0.45, n_estimators=110, reg_alpha=0.009, reg_lambda=53.5; total time=  15.0s\n",
      "[CV] END gamma=0.35, learning_rate=0.6, n_estimators=145, reg_alpha=0.01, reg_lambda=53.0; total time=  18.2s\n",
      "[CV] END gamma=0.2, learning_rate=0.45, n_estimators=145, reg_alpha=0.01, reg_lambda=51.0; total time=  18.6s\n",
      "[CV] END gamma=1e-05, learning_rate=0.1, n_estimators=100, reg_alpha=0.1, reg_lambda=0.0; total time=  12.7s\n",
      "[CV] END gamma=0.3, learning_rate=0.85, n_estimators=130, reg_alpha=0.09, reg_lambda=54.0; total time=  16.8s\n",
      "[CV] END gamma=0.1, learning_rate=0.7, n_estimators=100, reg_alpha=0.01, reg_lambda=53.0; total time=  13.3s\n",
      "[CV] END gamma=0.001, learning_rate=0.66, n_estimators=140, reg_alpha=0.1, reg_lambda=50.5; total time=  18.3s\n",
      "[CV] END gamma=0.3, learning_rate=0.45, n_estimators=130, reg_alpha=0.009, reg_lambda=40.5; total time=  16.7s\n",
      "[CV] END gamma=0.001, learning_rate=0.66, n_estimators=120, reg_alpha=1e-05, reg_lambda=51.0; total time=  15.4s\n",
      "[CV] END gamma=0.0001, learning_rate=0.85, n_estimators=130, reg_alpha=0.01, reg_lambda=54.0; total time=  17.3s\n",
      "[CV] END gamma=0.35, learning_rate=0.6, n_estimators=145, reg_alpha=0.009, reg_lambda=53.0; total time=  19.2s\n",
      "[CV] END gamma=0.2, learning_rate=0.8, n_estimators=125, reg_alpha=0.09, reg_lambda=40.0; total time=  17.0s\n",
      "[CV] END gamma=0.3, learning_rate=0.4, n_estimators=110, reg_alpha=0.1, reg_lambda=40.5; total time=  14.7s\n",
      "[CV] END gamma=0.3, learning_rate=0.55, n_estimators=125, reg_alpha=0.01, reg_lambda=52.0; total time=  16.2s\n",
      "[CV] END gamma=0.001, learning_rate=0.35, n_estimators=135, reg_alpha=0.09, reg_lambda=53; total time=  17.3s\n",
      "[CV] END gamma=0.3, learning_rate=0.35, n_estimators=125, reg_alpha=0.001, reg_lambda=53.0; total time=  16.1s\n",
      "[CV] END gamma=0.35, learning_rate=0.45, n_estimators=100, reg_alpha=0.0001, reg_lambda=52.5; total time=  15.8s\n",
      "[CV] END gamma=0.35, learning_rate=0.55, n_estimators=125, reg_alpha=0.1, reg_lambda=0.0; total time= 4.2min\n",
      "[CV] END gamma=0.1, learning_rate=0.5, n_estimators=145, reg_alpha=0.009, reg_lambda=40.5; total time=  21.7s\n",
      "[CV] END gamma=0.0001, learning_rate=0.35, n_estimators=120, reg_alpha=0.01, reg_lambda=52.0; total time=  18.9s\n",
      "[CV] END gamma=0.1, learning_rate=0.85, n_estimators=140, reg_alpha=0.09, reg_lambda=53.5; total time=  19.4s\n",
      "[CV] END gamma=0.3, learning_rate=0.66, n_estimators=140, reg_alpha=0.01, reg_lambda=53.0; total time=  18.9s\n",
      "[CV] END gamma=0.009, learning_rate=0.1, n_estimators=110, reg_alpha=0.009, reg_lambda=52.5; total time=  15.1s\n",
      "[CV] END gamma=0.01, learning_rate=0.9, n_estimators=145, reg_alpha=0.001, reg_lambda=40.5; total time=  18.8s\n",
      "[CV] END gamma=0.33, learning_rate=0.66, n_estimators=125, reg_alpha=0.0001, reg_lambda=51.0; total time=  18.1s\n",
      "[CV] END gamma=0.01, learning_rate=0.6, n_estimators=140, reg_alpha=0.001, reg_lambda=40.5; total time=  18.5s\n",
      "[CV] END gamma=0.0001, learning_rate=0.45, n_estimators=140, reg_alpha=0.09, reg_lambda=50.5; total time=  18.8s\n",
      "[CV] END gamma=0.1, learning_rate=0.5, n_estimators=125, reg_alpha=0.009, reg_lambda=51.5; total time=  17.2s\n",
      "[CV] END gamma=0.2, learning_rate=0.75, n_estimators=130, reg_alpha=0.0001, reg_lambda=53.0; total time=  31.5s\n",
      "[CV] END gamma=0.2, learning_rate=0.66, n_estimators=120, reg_alpha=0.1, reg_lambda=53.5; total time=  16.9s\n",
      "[CV] END gamma=0.09, learning_rate=0.9, n_estimators=120, reg_alpha=0.009, reg_lambda=50.5; total time=  22.0s\n",
      "[CV] END gamma=0.2, learning_rate=0.66, n_estimators=120, reg_alpha=0.009, reg_lambda=52.5; total time=  23.9s\n",
      "[CV] END gamma=0.001, learning_rate=0.7, n_estimators=125, reg_alpha=1e-05, reg_lambda=50.5; total time=  19.5s\n",
      "[CV] END gamma=0.3, learning_rate=0.85, n_estimators=135, reg_alpha=0.009, reg_lambda=0.0; total time=  20.4s\n",
      "[CV] END gamma=0.35, learning_rate=0.8, n_estimators=135, reg_alpha=0.009, reg_lambda=40.0; total time=  18.5s\n",
      "[CV] END gamma=1e-05, learning_rate=0.1, n_estimators=135, reg_alpha=0.09, reg_lambda=54.0; total time=  24.8s\n",
      "[CV] END gamma=0.0001, learning_rate=0.5, n_estimators=135, reg_alpha=0.009, reg_lambda=0.0; total time=  21.2s\n",
      "[CV] END gamma=0.009, learning_rate=0.8, n_estimators=130, reg_alpha=1e-05, reg_lambda=0.0; total time=  17.9s\n",
      "[CV] END gamma=0.1, learning_rate=0.4, n_estimators=135, reg_alpha=0.1, reg_lambda=52.5; total time=  19.1s\n",
      "[CV] END gamma=1e-05, learning_rate=0.9, n_estimators=140, reg_alpha=0.0001, reg_lambda=0.0; total time=  17.4s\n",
      "[CV] END gamma=0.1, learning_rate=0.35, n_estimators=120, reg_alpha=1e-05, reg_lambda=51.5; total time=  21.0s\n",
      "[CV] END gamma=0.009, learning_rate=0.66, n_estimators=100, reg_alpha=0.09, reg_lambda=53.5; total time=  13.9s\n",
      "[CV] END gamma=12.8, learning_rate=0.300000012, n_estimators=50, reg_alpha=12.8, reg_lambda=1.6; total time=   7.7s\n",
      "[CV] END gamma=51.2, learning_rate=0.15, n_estimators=65, reg_alpha=0, reg_lambda=3.2; total time=   7.7s\n",
      "[CV] END gamma=6.4, learning_rate=0.1, n_estimators=115, reg_alpha=6.4, reg_lambda=3.2; total time=  15.0s\n",
      "[CV] END gamma=12.8, learning_rate=0.2, n_estimators=80, reg_alpha=0.8, reg_lambda=3.2; total time=  10.5s\n",
      "[CV] END gamma=6.4, learning_rate=0.5, n_estimators=65, reg_alpha=3.2, reg_lambda=0.2; total time=   8.3s\n",
      "[CV] END gamma=25.6, learning_rate=0.4, n_estimators=50, reg_alpha=12.8, reg_lambda=1.6; total time=   5.8s\n",
      "[CV] END gamma=102.4, learning_rate=0.6, n_estimators=65, reg_alpha=12.8, reg_lambda=6.4; total time=   7.7s\n",
      "[CV] END gamma=3.2, learning_rate=0.03, n_estimators=150, reg_alpha=25.6, reg_lambda=12.8; total time=  22.8s\n",
      "[CV] END gamma=12.8, learning_rate=0.6, n_estimators=130, reg_alpha=3.2, reg_lambda=0.4; total time=  16.3s\n",
      "[CV] END gamma=200, learning_rate=0.15, n_estimators=50, reg_alpha=25.6, reg_lambda=0.2; total time=   6.6s\n",
      "[CV] END gamma=0.2, learning_rate=0.6, n_estimators=130, reg_alpha=0.1, reg_lambda=51.2; total time=  17.3s\n",
      "[CV] END gamma=0.8, learning_rate=0.4, n_estimators=130, reg_alpha=25.6, reg_lambda=102.4; total time=  14.7s\n",
      "[CV] END gamma=0.8, learning_rate=0.25, n_estimators=130, reg_alpha=6.4, reg_lambda=0.2; total time=  16.4s\n",
      "[CV] END gamma=0.8, learning_rate=0.06, n_estimators=100, reg_alpha=3.2, reg_lambda=0; total time=  12.0s\n",
      "[CV] END gamma=0.8, learning_rate=0.25, n_estimators=150, reg_alpha=0.2, reg_lambda=0.4; total time=  17.9s\n",
      "[CV] END gamma=0, learning_rate=0.15, n_estimators=100, reg_alpha=1.6, reg_lambda=6.4; total time=  12.4s\n",
      "[CV] END gamma=3.2, learning_rate=0.01, n_estimators=50, reg_alpha=25.6, reg_lambda=200; total time=   6.1s\n",
      "[CV] END gamma=102.4, learning_rate=0.1, n_estimators=50, reg_alpha=0.8, reg_lambda=12.8; total time=   6.7s\n",
      "[CV] END gamma=102.4, learning_rate=0.01, n_estimators=100, reg_alpha=1.6, reg_lambda=0.2; total time=  12.4s\n",
      "[CV] END gamma=1.6, learning_rate=0.7, n_estimators=80, reg_alpha=102.4, reg_lambda=0.8; total time=   4.5s\n",
      "[CV] END gamma=12.8, learning_rate=0.300000012, n_estimators=115, reg_alpha=0, reg_lambda=200; total time=  16.3s\n",
      "[CV] END gamma=51.2, learning_rate=0.25, n_estimators=80, reg_alpha=12.8, reg_lambda=0.4; total time=  12.2s\n",
      "[CV] END gamma=25.6, learning_rate=0.06, n_estimators=80, reg_alpha=0.8, reg_lambda=0.4; total time=  13.9s\n",
      "[CV] END gamma=12.8, learning_rate=0.4, n_estimators=115, reg_alpha=102.4, reg_lambda=0.8; total time=  17.1s\n",
      "[CV] END gamma=25.6, learning_rate=0.03, n_estimators=150, reg_alpha=0.1, reg_lambda=6.4; total time=  19.3s\n",
      "[CV] END gamma=102.4, learning_rate=0.5, n_estimators=50, reg_alpha=0.4, reg_lambda=0.4; total time=   6.0s\n",
      "[CV] END gamma=12.8, learning_rate=0.15, n_estimators=150, reg_alpha=0.2, reg_lambda=3.2; total time=  18.7s\n",
      "[CV] END gamma=0.8, learning_rate=0.01, n_estimators=50, reg_alpha=6.4, reg_lambda=102.4; total time=   5.9s\n",
      "[CV] END gamma=0.8, learning_rate=0.4, n_estimators=100, reg_alpha=0.4, reg_lambda=25.6; total time=  13.4s\n",
      "[CV] END gamma=0.2, learning_rate=0.06, n_estimators=115, reg_alpha=25.6, reg_lambda=0; total time=  15.9s\n",
      "[CV] END gamma=0, learning_rate=0.5, n_estimators=115, reg_alpha=1.6, reg_lambda=3.2; total time=  16.3s\n",
      "[CV] END gamma=0, learning_rate=0.1, n_estimators=80, reg_alpha=0, reg_lambda=0.4; total time=  11.8s\n",
      "[CV] END gamma=0.2, learning_rate=0.7, n_estimators=65, reg_alpha=0.2, reg_lambda=3.2; total time=   9.1s\n",
      "[CV] END gamma=25.6, learning_rate=0.7, n_estimators=130, reg_alpha=1.6, reg_lambda=200; total time=  16.9s\n",
      "[CV] END gamma=0, learning_rate=0.300000012, n_estimators=100, reg_alpha=0, reg_lambda=0.8; total time=  13.0s\n",
      "[CV] END gamma=0, learning_rate=0.300000012, n_estimators=100, reg_alpha=0, reg_lambda=0.8; total time=  12.4s\n",
      "[CV] END gamma=0.8, learning_rate=0.5, n_estimators=115, reg_alpha=0.4, reg_lambda=0.2; total time=  14.1s\n",
      "[CV] END gamma=12.8, learning_rate=0.5, n_estimators=50, reg_alpha=0.2, reg_lambda=0.2; total time=   5.7s\n",
      "[CV] END gamma=12.8, learning_rate=0.5, n_estimators=50, reg_alpha=0.2, reg_lambda=0.2; total time=   6.4s\n",
      "[CV] END gamma=12.8, learning_rate=0.2, n_estimators=115, reg_alpha=0.1, reg_lambda=0.2; total time=  19.5s\n",
      "[CV] END gamma=51.2, learning_rate=0.6, n_estimators=115, reg_alpha=3.2, reg_lambda=102.4; total time=  16.5s\n",
      "[CV] END gamma=0.1, learning_rate=0.06, n_estimators=100, reg_alpha=3.2, reg_lambda=200; total time=  13.1s\n",
      "[CV] END gamma=6.4, learning_rate=0.5, n_estimators=80, reg_alpha=102.4, reg_lambda=51.2; total time=   8.7s\n",
      "[CV] END gamma=1.6, learning_rate=0.300000012, n_estimators=115, reg_alpha=51.2, reg_lambda=51.2; total time=  12.1s\n",
      "[CV] END gamma=0.1, learning_rate=0.15, n_estimators=100, reg_alpha=0.1, reg_lambda=25.6; total time=  13.1s\n",
      "[CV] END gamma=1.6, learning_rate=0.25, n_estimators=130, reg_alpha=0.2, reg_lambda=0.8; total time=  15.9s\n",
      "[CV] END gamma=0.4, learning_rate=0.4, n_estimators=130, reg_alpha=6.4, reg_lambda=6.4; total time=  16.0s\n",
      "[CV] END gamma=0, learning_rate=0.4, n_estimators=65, reg_alpha=0.8, reg_lambda=6.4; total time=   8.2s\n",
      "[CV] END gamma=0.2, learning_rate=0.300000012, n_estimators=80, reg_alpha=0.8, reg_lambda=0.2; total time=  10.2s\n",
      "[CV] END gamma=3.2, learning_rate=0.7, n_estimators=150, reg_alpha=6.4, reg_lambda=1.6; total time=  21.1s\n",
      "[CV] END gamma=102.4, learning_rate=0.25, n_estimators=80, reg_alpha=3.2, reg_lambda=12.8; total time=  10.2s\n",
      "[CV] END gamma=0, learning_rate=0.5, n_estimators=130, reg_alpha=0.4, reg_lambda=0.4; total time=  16.3s\n",
      "[CV] END gamma=3.2, learning_rate=0.2, n_estimators=65, reg_alpha=25.6, reg_lambda=51.2; total time=   8.2s\n",
      "[CV] END gamma=0, learning_rate=0.01, n_estimators=150, reg_alpha=0, reg_lambda=0.2; total time=  20.9s\n",
      "[CV] END gamma=0.1, learning_rate=0.4, n_estimators=100, reg_alpha=51.2, reg_lambda=0.4; total time=   5.8s\n",
      "[CV] END gamma=0.1, learning_rate=0.4, n_estimators=100, reg_alpha=51.2, reg_lambda=0.4; total time=   6.1s\n",
      "[CV] END gamma=0, learning_rate=0.300000012, n_estimators=130, reg_alpha=51.2, reg_lambda=200; total time=  14.1s\n",
      "[CV] END gamma=3.2, learning_rate=0.03, n_estimators=80, reg_alpha=12.8, reg_lambda=3.2; total time=  11.3s\n",
      "[CV] END gamma=0, learning_rate=0.6, n_estimators=80, reg_alpha=0.1, reg_lambda=0.8; total time=  10.3s\n",
      "[CV] END gamma=25.6, learning_rate=0.6, n_estimators=50, reg_alpha=0.4, reg_lambda=51.2; total time=   7.5s\n",
      "[CV] END gamma=25.6, learning_rate=0.6, n_estimators=50, reg_alpha=0.4, reg_lambda=51.2; total time=   6.6s\n",
      "[CV] END gamma=0.2, learning_rate=0.4, n_estimators=65, reg_alpha=0.1, reg_lambda=3.2; total time=  11.5s\n",
      "[CV] END gamma=12.8, learning_rate=0.03, n_estimators=50, reg_alpha=0, reg_lambda=0.1; total time=   8.2s\n",
      "[CV] END gamma=12.8, learning_rate=0.03, n_estimators=50, reg_alpha=0, reg_lambda=0.1; total time=   7.3s\n",
      "[CV] END gamma=0.2, learning_rate=0.6, n_estimators=100, reg_alpha=0.4, reg_lambda=3.2; total time=  14.3s\n",
      "[CV] END gamma=0, learning_rate=0.06, n_estimators=65, reg_alpha=0.2, reg_lambda=6.4; total time=  10.8s\n",
      "[CV] END gamma=25.6, learning_rate=0.2, n_estimators=50, reg_alpha=3.2, reg_lambda=51.2; total time=   7.5s\n",
      "[CV] END gamma=12.8, learning_rate=0.5, n_estimators=50, reg_alpha=200, reg_lambda=0.8; total time=   4.6s\n",
      "[CV] END gamma=200, learning_rate=0.300000012, n_estimators=100, reg_alpha=25.6, reg_lambda=1.6; total time=  13.6s\n",
      "[CV] END gamma=0.2, learning_rate=0.5, n_estimators=80, reg_alpha=25.6, reg_lambda=51.2; total time=   8.0s\n",
      "[CV] END gamma=0.2, learning_rate=0.5, n_estimators=80, reg_alpha=25.6, reg_lambda=51.2; total time=   7.8s\n",
      "[CV] END gamma=0, learning_rate=0.7, n_estimators=130, reg_alpha=25.6, reg_lambda=102.4; total time=   8.0s\n",
      "[CV] END gamma=0, learning_rate=0.7, n_estimators=130, reg_alpha=25.6, reg_lambda=102.4; total time=   9.0s\n",
      "[CV] END gamma=0.8, learning_rate=0.15, n_estimators=80, reg_alpha=0, reg_lambda=0.8; total time=  12.4s\n",
      "[CV] END gamma=0.0001, learning_rate=0.75, n_estimators=135, reg_alpha=0.1, reg_lambda=30.5; total time=  20.9s\n",
      "[CV] END gamma=1e-05, learning_rate=0.4, n_estimators=110, reg_alpha=0.01, reg_lambda=40.5; total time=  19.3s\n",
      "[CV] END gamma=0.35, learning_rate=0.4, n_estimators=130, reg_alpha=0.0001, reg_lambda=50.5; total time=  22.0s\n",
      "[CV] END gamma=0.09, learning_rate=0.85, n_estimators=125, reg_alpha=0.0001, reg_lambda=30.5; total time=  17.7s\n",
      "[CV] END gamma=1e-05, learning_rate=0.75, n_estimators=130, reg_alpha=0.09, reg_lambda=54.0; total time=  18.3s\n",
      "[CV] END gamma=0.01, learning_rate=0.1, n_estimators=100, reg_alpha=0.09, reg_lambda=40.0; total time=  13.4s\n",
      "[CV] END gamma=0.2, learning_rate=0.5, n_estimators=110, reg_alpha=0.01, reg_lambda=52.5; total time=  17.2s\n",
      "[CV] END gamma=0.009, learning_rate=0.55, n_estimators=140, reg_alpha=0.0001, reg_lambda=52.5; total time=  18.5s\n",
      "[CV] END gamma=0.0001, learning_rate=0.8, n_estimators=100, reg_alpha=1e-05, reg_lambda=52.0; total time=  13.0s\n",
      "[CV] END gamma=0.1, learning_rate=0.55, n_estimators=125, reg_alpha=0.01, reg_lambda=53.0; total time=  17.2s\n",
      "[CV] END gamma=0.3, learning_rate=0.4, n_estimators=120, reg_alpha=0.1, reg_lambda=53.5; total time=  16.5s\n",
      "[CV] END gamma=1e-05, learning_rate=0.4, n_estimators=100, reg_alpha=0.01, reg_lambda=40.5; total time=  13.6s\n",
      "[CV] END gamma=0.009, learning_rate=0.75, n_estimators=125, reg_alpha=0.09, reg_lambda=53; total time=  16.6s\n",
      "[CV] END gamma=0.009, learning_rate=0.9, n_estimators=110, reg_alpha=0.01, reg_lambda=50.5; total time=  14.7s\n",
      "[CV] END gamma=0.3, learning_rate=0.45, n_estimators=120, reg_alpha=0.009, reg_lambda=51.0; total time=  16.6s\n",
      "[CV] END gamma=0.33, learning_rate=0.9, n_estimators=145, reg_alpha=0.09, reg_lambda=51.0; total time=  19.5s\n",
      "[CV] END gamma=0.35, learning_rate=0.85, n_estimators=110, reg_alpha=0.0001, reg_lambda=52.5; total time=  14.4s\n",
      "[CV] END gamma=0.09, learning_rate=0.75, n_estimators=140, reg_alpha=0.0001, reg_lambda=0.0; total time=  16.0s\n",
      "[CV] END gamma=0.01, learning_rate=0.35, n_estimators=125, reg_alpha=0.001, reg_lambda=40.5; total time=  16.4s\n",
      "[CV] END gamma=0.3, learning_rate=0.7, n_estimators=140, reg_alpha=0.01, reg_lambda=50.5; total time=  18.2s\n",
      "[CV] END gamma=0.2, learning_rate=0.85, n_estimators=140, reg_alpha=0.0001, reg_lambda=40.0; total time=  18.6s\n",
      "[CV] END gamma=0.35, learning_rate=0.1, n_estimators=100, reg_alpha=0.001, reg_lambda=0.0; total time=  12.9s\n",
      "[CV] END gamma=0.0001, learning_rate=0.1, n_estimators=120, reg_alpha=0.01, reg_lambda=53.0; total time=  17.5s\n",
      "[CV] END gamma=1e-05, learning_rate=0.5, n_estimators=140, reg_alpha=0.0001, reg_lambda=0.0; total time=  16.6s\n",
      "[CV] END gamma=0.009, learning_rate=0.1, n_estimators=120, reg_alpha=0.0001, reg_lambda=53.0; total time=  15.3s\n",
      "[CV] END gamma=0.35, learning_rate=0.1, n_estimators=120, reg_alpha=0.0001, reg_lambda=53.5; total time=  15.4s\n",
      "[CV] END gamma=0.01, learning_rate=0.85, n_estimators=110, reg_alpha=1e-05, reg_lambda=53.0; total time=  14.5s\n",
      "[CV] END gamma=0.009, learning_rate=0.35, n_estimators=110, reg_alpha=1e-05, reg_lambda=53.5; total time=  14.6s\n",
      "[CV] END gamma=0.3, learning_rate=0.35, n_estimators=140, reg_alpha=1e-05, reg_lambda=53; total time=  20.6s\n",
      "[CV] END gamma=0.01, learning_rate=0.55, n_estimators=120, reg_alpha=0.09, reg_lambda=30.5; total time=  16.8s\n",
      "[CV] END gamma=0.3, learning_rate=0.5, n_estimators=145, reg_alpha=0.0001, reg_lambda=53.0; total time=  19.4s\n",
      "[CV] END gamma=1e-05, learning_rate=0.6, n_estimators=120, reg_alpha=0.09, reg_lambda=50.5; total time=  16.0s\n",
      "[CV] END gamma=0.1, learning_rate=0.6, n_estimators=110, reg_alpha=0.0001, reg_lambda=51.5; total time=  14.8s\n",
      "[CV] END gamma=0.35, learning_rate=0.6, n_estimators=145, reg_alpha=0.01, reg_lambda=53.0; total time=  19.6s\n",
      "[CV] END gamma=0.2, learning_rate=0.45, n_estimators=145, reg_alpha=0.01, reg_lambda=51.0; total time=  19.1s\n",
      "[CV] END gamma=0.0001, learning_rate=0.4, n_estimators=130, reg_alpha=0.09, reg_lambda=51.5; total time=  17.0s\n",
      "[CV] END gamma=0.3, learning_rate=0.85, n_estimators=130, reg_alpha=0.09, reg_lambda=54.0; total time=  16.6s\n",
      "[CV] END gamma=0.35, learning_rate=0.4, n_estimators=110, reg_alpha=0.0001, reg_lambda=52.5; total time=  14.4s\n",
      "[CV] END gamma=0.001, learning_rate=0.66, n_estimators=140, reg_alpha=0.1, reg_lambda=50.5; total time=  17.9s\n",
      "[CV] END gamma=0.3, learning_rate=0.45, n_estimators=130, reg_alpha=0.009, reg_lambda=40.5; total time=  16.6s\n",
      "[CV] END gamma=0.09, learning_rate=0.4, n_estimators=135, reg_alpha=0.1, reg_lambda=30.5; total time=  17.5s\n",
      "[CV] END gamma=0.0001, learning_rate=0.85, n_estimators=130, reg_alpha=0.01, reg_lambda=54.0; total time=  16.4s\n",
      "[CV] END gamma=0.01, learning_rate=0.85, n_estimators=120, reg_alpha=0.09, reg_lambda=40.0; total time=  16.6s\n",
      "[CV] END gamma=0.01, learning_rate=0.85, n_estimators=120, reg_alpha=0.09, reg_lambda=40.0; total time=  15.9s\n",
      "[CV] END gamma=0.3, learning_rate=0.4, n_estimators=110, reg_alpha=0.1, reg_lambda=40.5; total time=  14.8s\n",
      "[CV] END gamma=0.3, learning_rate=0.55, n_estimators=125, reg_alpha=0.01, reg_lambda=52.0; total time=  15.9s\n",
      "[CV] END gamma=0.2, learning_rate=0.6, n_estimators=145, reg_alpha=0.0001, reg_lambda=53; total time=  19.3s\n",
      "[CV] END gamma=0.3, learning_rate=0.35, n_estimators=125, reg_alpha=0.001, reg_lambda=53.0; total time=  16.4s\n",
      "[CV] END gamma=0.35, learning_rate=0.45, n_estimators=100, reg_alpha=0.0001, reg_lambda=52.5; total time=  15.6s\n",
      "[CV] END gamma=0.09, learning_rate=0.7, n_estimators=140, reg_alpha=0.001, reg_lambda=52.0; total time= 4.3min\n",
      "[CV] END gamma=0.1, learning_rate=0.5, n_estimators=145, reg_alpha=0.009, reg_lambda=40.5; total time=  21.7s\n",
      "[CV] END gamma=0.0001, learning_rate=0.35, n_estimators=120, reg_alpha=0.01, reg_lambda=52.0; total time=  18.0s\n",
      "[CV] END gamma=0.3, learning_rate=0.75, n_estimators=125, reg_alpha=0.1, reg_lambda=54.0; total time=  18.3s\n",
      "[CV] END gamma=0.3, learning_rate=0.66, n_estimators=140, reg_alpha=0.01, reg_lambda=53.0; total time=  19.0s\n",
      "[CV] END gamma=0.009, learning_rate=0.1, n_estimators=110, reg_alpha=0.009, reg_lambda=52.5; total time=  15.1s\n",
      "[CV] END gamma=0.2, learning_rate=0.8, n_estimators=130, reg_alpha=1e-05, reg_lambda=40.0; total time=  17.0s\n",
      "[CV] END gamma=0.33, learning_rate=0.66, n_estimators=125, reg_alpha=0.0001, reg_lambda=51.0; total time=  18.0s\n",
      "[CV] END gamma=0.01, learning_rate=0.6, n_estimators=140, reg_alpha=0.001, reg_lambda=40.5; total time=  18.6s\n",
      "[CV] END gamma=0.33, learning_rate=0.35, n_estimators=100, reg_alpha=0.0001, reg_lambda=53.0; total time=  13.2s\n",
      "[CV] END gamma=0.33, learning_rate=0.35, n_estimators=100, reg_alpha=0.0001, reg_lambda=53.0; total time=  13.3s\n",
      "[CV] END gamma=0.1, learning_rate=0.5, n_estimators=125, reg_alpha=0.009, reg_lambda=51.5; total time=  30.1s\n",
      "[CV] END gamma=1e-05, learning_rate=0.4, n_estimators=125, reg_alpha=0.0001, reg_lambda=40.5; total time=  18.5s\n",
      "[CV] END gamma=0.2, learning_rate=0.66, n_estimators=120, reg_alpha=0.1, reg_lambda=53.5; total time=  19.7s\n",
      "[CV] END gamma=0.09, learning_rate=0.9, n_estimators=120, reg_alpha=0.009, reg_lambda=50.5; total time=  24.4s\n",
      "[CV] END gamma=0.001, learning_rate=0.6, n_estimators=145, reg_alpha=0.01, reg_lambda=50.5; total time=  23.8s\n",
      "[CV] END gamma=0.001, learning_rate=0.7, n_estimators=125, reg_alpha=1e-05, reg_lambda=50.5; total time=  21.7s\n",
      "[CV] END gamma=0.3, learning_rate=0.85, n_estimators=135, reg_alpha=0.009, reg_lambda=0.0; total time=  16.4s\n",
      "[CV] END gamma=1e-05, learning_rate=0.1, n_estimators=135, reg_alpha=0.09, reg_lambda=54.0; total time=  22.2s\n",
      "[CV] END gamma=0.2, learning_rate=0.45, n_estimators=110, reg_alpha=0.009, reg_lambda=51.5; total time=  19.3s\n",
      "[CV] END gamma=0.0001, learning_rate=0.5, n_estimators=135, reg_alpha=0.009, reg_lambda=0.0; total time=  20.8s\n",
      "[CV] END gamma=0.2, learning_rate=0.45, n_estimators=110, reg_alpha=0.1, reg_lambda=0.0; total time=  15.3s\n",
      "[CV] END gamma=0.1, learning_rate=0.4, n_estimators=135, reg_alpha=0.1, reg_lambda=52.5; total time=  19.6s\n",
      "[CV] END gamma=1e-05, learning_rate=0.9, n_estimators=140, reg_alpha=0.0001, reg_lambda=0.0; total time=  16.8s\n",
      "[CV] END gamma=0.09, learning_rate=0.6, n_estimators=120, reg_alpha=0.09, reg_lambda=52.0; total time=  21.5s\n",
      "[CV] END gamma=0.009, learning_rate=0.66, n_estimators=100, reg_alpha=0.09, reg_lambda=53.5; total time=  10.5s\n",
      "[CV] END gamma=12.8, learning_rate=0.300000012, n_estimators=50, reg_alpha=12.8, reg_lambda=1.6; total time=   7.6s\n",
      "[CV] END gamma=51.2, learning_rate=0.15, n_estimators=65, reg_alpha=0, reg_lambda=3.2; total time=   7.7s\n",
      "[CV] END gamma=25.6, learning_rate=0.1, n_estimators=100, reg_alpha=12.8, reg_lambda=12.8; total time=  13.7s\n",
      "[CV] END gamma=12.8, learning_rate=0.2, n_estimators=80, reg_alpha=0.8, reg_lambda=3.2; total time=  10.5s\n",
      "[CV] END gamma=6.4, learning_rate=0.5, n_estimators=65, reg_alpha=3.2, reg_lambda=0.2; total time=   8.7s\n",
      "[CV] END gamma=0.4, learning_rate=0.6, n_estimators=80, reg_alpha=51.2, reg_lambda=0; total time=   6.8s\n",
      "[CV] END gamma=102.4, learning_rate=0.6, n_estimators=65, reg_alpha=12.8, reg_lambda=6.4; total time=   8.5s\n",
      "[CV] END gamma=3.2, learning_rate=0.03, n_estimators=150, reg_alpha=25.6, reg_lambda=12.8; total time=  22.7s\n",
      "[CV] END gamma=12.8, learning_rate=0.6, n_estimators=130, reg_alpha=3.2, reg_lambda=0.4; total time=  16.2s\n",
      "[CV] END gamma=0.1, learning_rate=0.03, n_estimators=100, reg_alpha=51.2, reg_lambda=6.4; total time=  12.7s\n",
      "[CV] END gamma=0.2, learning_rate=0.6, n_estimators=130, reg_alpha=0.1, reg_lambda=51.2; total time=  16.8s\n",
      "[CV] END gamma=0.8, learning_rate=0.4, n_estimators=130, reg_alpha=25.6, reg_lambda=102.4; total time=  14.6s\n",
      "[CV] END gamma=0, learning_rate=0.01, n_estimators=115, reg_alpha=6.4, reg_lambda=0.2; total time=  13.7s\n",
      "[CV] END gamma=0.8, learning_rate=0.06, n_estimators=100, reg_alpha=3.2, reg_lambda=0; total time=  12.8s\n",
      "[CV] END gamma=0.8, learning_rate=0.25, n_estimators=150, reg_alpha=0.2, reg_lambda=0.4; total time=  17.8s\n",
      "[CV] END gamma=6.4, learning_rate=0.1, n_estimators=80, reg_alpha=6.4, reg_lambda=1.6; total time=  10.3s\n",
      "[CV] END gamma=3.2, learning_rate=0.01, n_estimators=50, reg_alpha=25.6, reg_lambda=200; total time=   5.6s\n",
      "[CV] END gamma=25.6, learning_rate=0.06, n_estimators=80, reg_alpha=51.2, reg_lambda=51.2; total time=  10.2s\n",
      "[CV] END gamma=102.4, learning_rate=0.01, n_estimators=100, reg_alpha=1.6, reg_lambda=0.2; total time=  12.6s\n",
      "[CV] END gamma=12.8, learning_rate=0.300000012, n_estimators=115, reg_alpha=0, reg_lambda=200; total time=  17.1s\n",
      "[CV] END gamma=25.6, learning_rate=0.06, n_estimators=80, reg_alpha=0.8, reg_lambda=0.4; total time=  13.5s\n",
      "[CV] END gamma=0, learning_rate=0.06, n_estimators=80, reg_alpha=0.4, reg_lambda=0.8; total time=  14.2s\n",
      "[CV] END gamma=12.8, learning_rate=0.4, n_estimators=115, reg_alpha=102.4, reg_lambda=0.8; total time=  13.4s\n",
      "[CV] END gamma=25.6, learning_rate=0.03, n_estimators=150, reg_alpha=0.1, reg_lambda=6.4; total time=  19.3s\n",
      "[CV] END gamma=1.6, learning_rate=0.7, n_estimators=100, reg_alpha=102.4, reg_lambda=102.4; total time=   5.4s\n",
      "[CV] END gamma=102.4, learning_rate=0.5, n_estimators=50, reg_alpha=0.4, reg_lambda=0.4; total time=   6.1s\n",
      "[CV] END gamma=0.8, learning_rate=0.5, n_estimators=50, reg_alpha=0, reg_lambda=0.8; total time=   6.4s\n",
      "[CV] END gamma=0.8, learning_rate=0.5, n_estimators=50, reg_alpha=0, reg_lambda=0.8; total time=   6.6s\n",
      "[CV] END gamma=0.8, learning_rate=0.5, n_estimators=50, reg_alpha=0, reg_lambda=0.8; total time=   6.3s\n",
      "[CV] END gamma=0.8, learning_rate=0.4, n_estimators=100, reg_alpha=0.4, reg_lambda=25.6; total time=  13.9s\n",
      "[CV] END gamma=12.8, learning_rate=0.06, n_estimators=65, reg_alpha=12.8, reg_lambda=25.6; total time=   8.8s\n",
      "[CV] END gamma=12.8, learning_rate=0.06, n_estimators=65, reg_alpha=12.8, reg_lambda=25.6; total time=   8.7s\n",
      "[CV] END gamma=0.8, learning_rate=0.6, n_estimators=80, reg_alpha=51.2, reg_lambda=51.2; total time=   9.0s\n",
      "[CV] END gamma=0.8, learning_rate=0.6, n_estimators=80, reg_alpha=51.2, reg_lambda=51.2; total time=   6.7s\n",
      "[CV] END gamma=0, learning_rate=0.1, n_estimators=80, reg_alpha=0, reg_lambda=0.4; total time=  12.3s\n",
      "[CV] END gamma=3.2, learning_rate=0.03, n_estimators=130, reg_alpha=12.8, reg_lambda=1.6; total time=  19.0s\n",
      "[CV] END gamma=25.6, learning_rate=0.7, n_estimators=130, reg_alpha=1.6, reg_lambda=200; total time=  18.6s\n",
      "[CV] END gamma=200, learning_rate=0.1, n_estimators=65, reg_alpha=0, reg_lambda=0.4; total time=   8.4s\n",
      "[CV] END gamma=51.2, learning_rate=0.6, n_estimators=150, reg_alpha=200, reg_lambda=25.6; total time=  16.8s\n",
      "[CV] END gamma=0.8, learning_rate=0.5, n_estimators=115, reg_alpha=0.4, reg_lambda=0.2; total time=  14.9s\n",
      "[CV] END gamma=51.2, learning_rate=0.6, n_estimators=115, reg_alpha=3.2, reg_lambda=102.4; total time=  21.4s\n",
      "[CV] END gamma=12.8, learning_rate=0.5, n_estimators=50, reg_alpha=102.4, reg_lambda=0; total time=   4.7s\n",
      "[CV] END gamma=0.4, learning_rate=0.2, n_estimators=50, reg_alpha=0.8, reg_lambda=0; total time=   6.9s\n",
      "[CV] END gamma=0.1, learning_rate=0.06, n_estimators=100, reg_alpha=3.2, reg_lambda=200; total time=  13.2s\n",
      "[CV] END gamma=6.4, learning_rate=0.5, n_estimators=80, reg_alpha=102.4, reg_lambda=51.2; total time=   7.2s\n",
      "[CV] END gamma=6.4, learning_rate=0.25, n_estimators=50, reg_alpha=0.8, reg_lambda=12.8; total time=   6.2s\n",
      "[CV] END gamma=0.2, learning_rate=0.25, n_estimators=80, reg_alpha=6.4, reg_lambda=0.1; total time=  10.9s\n",
      "[CV] END gamma=0.1, learning_rate=0.15, n_estimators=100, reg_alpha=0.1, reg_lambda=25.6; total time=  13.2s\n",
      "[CV] END gamma=1.6, learning_rate=0.25, n_estimators=130, reg_alpha=0.2, reg_lambda=0.8; total time=  15.7s\n",
      "[CV] END gamma=200, learning_rate=0.03, n_estimators=65, reg_alpha=25.6, reg_lambda=12.8; total time=   8.3s\n",
      "[CV] END gamma=0, learning_rate=0.4, n_estimators=65, reg_alpha=0.8, reg_lambda=6.4; total time=   8.2s\n",
      "[CV] END gamma=200, learning_rate=0.2, n_estimators=100, reg_alpha=0.8, reg_lambda=0.8; total time=  13.4s\n",
      "[CV] END gamma=0.2, learning_rate=0.300000012, n_estimators=80, reg_alpha=0.8, reg_lambda=0.2; total time=  10.7s\n",
      "[CV] END gamma=102.4, learning_rate=0.25, n_estimators=80, reg_alpha=3.2, reg_lambda=12.8; total time=  11.5s\n",
      "[CV] END gamma=102.4, learning_rate=0.25, n_estimators=80, reg_alpha=3.2, reg_lambda=12.8; total time=  11.4s\n",
      "[CV] END gamma=0.2, learning_rate=0.6, n_estimators=65, reg_alpha=0, reg_lambda=3.2; total time=   8.8s\n",
      "[CV] END gamma=0.2, learning_rate=0.6, n_estimators=65, reg_alpha=0, reg_lambda=3.2; total time=   8.0s\n",
      "[CV] END gamma=0, learning_rate=0.01, n_estimators=150, reg_alpha=0, reg_lambda=0.2; total time=  20.8s\n",
      "[CV] END gamma=0.4, learning_rate=0.6, n_estimators=150, reg_alpha=200, reg_lambda=0.4; total time=   4.6s\n",
      "[CV] END gamma=0.1, learning_rate=0.300000012, n_estimators=115, reg_alpha=6.4, reg_lambda=0.4; total time=  11.3s\n",
      "[CV] END gamma=1.6, learning_rate=0.5, n_estimators=150, reg_alpha=200, reg_lambda=0.1; total time=   7.7s\n",
      "[CV] END gamma=0, learning_rate=0.300000012, n_estimators=130, reg_alpha=51.2, reg_lambda=200; total time=  14.8s\n",
      "[CV] END gamma=0, learning_rate=0.6, n_estimators=80, reg_alpha=0.1, reg_lambda=0.8; total time=  11.4s\n",
      "[CV] END gamma=102.4, learning_rate=0.7, n_estimators=130, reg_alpha=200, reg_lambda=0.1; total time=  17.9s\n",
      "[CV] END gamma=0.2, learning_rate=0.4, n_estimators=65, reg_alpha=0.1, reg_lambda=3.2; total time=  10.9s\n",
      "[CV] END gamma=0.4, learning_rate=0.300000012, n_estimators=80, reg_alpha=0, reg_lambda=6.4; total time=  12.2s\n",
      "[CV] END gamma=0.4, learning_rate=0.2, n_estimators=80, reg_alpha=102.4, reg_lambda=0; total time=   7.3s\n",
      "[CV] END gamma=0.2, learning_rate=0.6, n_estimators=100, reg_alpha=0.4, reg_lambda=3.2; total time=  14.1s\n",
      "[CV] END gamma=12.8, learning_rate=0.2, n_estimators=100, reg_alpha=200, reg_lambda=1.6; total time=  11.2s\n",
      "[CV] END gamma=25.6, learning_rate=0.2, n_estimators=50, reg_alpha=3.2, reg_lambda=51.2; total time=   8.1s\n",
      "[CV] END gamma=12.8, learning_rate=0.5, n_estimators=50, reg_alpha=200, reg_lambda=0.8; total time=   5.4s\n",
      "[CV] END gamma=25.6, learning_rate=0.300000012, n_estimators=65, reg_alpha=12.8, reg_lambda=200; total time=   8.8s\n",
      "[CV] END gamma=25.6, learning_rate=0.300000012, n_estimators=65, reg_alpha=12.8, reg_lambda=200; total time=  10.1s\n",
      "[CV] END gamma=102.4, learning_rate=0.25, n_estimators=130, reg_alpha=51.2, reg_lambda=0.2; total time=  20.7s\n",
      "[CV] END gamma=0, learning_rate=0.7, n_estimators=130, reg_alpha=25.6, reg_lambda=102.4; total time=   7.3s\n",
      "[CV] END gamma=25.6, learning_rate=0.03, n_estimators=80, reg_alpha=0.2, reg_lambda=0.1; total time=  12.2s\n",
      "[CV] END gamma=1e-05, learning_rate=0.4, n_estimators=110, reg_alpha=0.01, reg_lambda=40.5; total time=  17.4s\n",
      "[CV] END gamma=1e-05, learning_rate=0.4, n_estimators=110, reg_alpha=0.01, reg_lambda=40.5; total time=  18.1s\n",
      "[CV] END gamma=0.33, learning_rate=0.1, n_estimators=125, reg_alpha=0.01, reg_lambda=51.5; total time=  21.2s\n",
      "[CV] END gamma=0.09, learning_rate=0.85, n_estimators=125, reg_alpha=0.0001, reg_lambda=30.5; total time=  19.0s\n",
      "[CV] END gamma=1e-05, learning_rate=0.75, n_estimators=130, reg_alpha=0.09, reg_lambda=54.0; total time=  18.0s\n",
      "[CV] END gamma=0.35, learning_rate=0.8, n_estimators=110, reg_alpha=0.001, reg_lambda=51.0; total time=  14.4s\n",
      "[CV] END gamma=0.2, learning_rate=0.5, n_estimators=110, reg_alpha=0.01, reg_lambda=52.5; total time=  17.2s\n",
      "[CV] END gamma=0.1, learning_rate=0.75, n_estimators=130, reg_alpha=0.009, reg_lambda=53; total time=  17.6s\n",
      "[CV] END gamma=0.009, learning_rate=0.55, n_estimators=140, reg_alpha=0.0001, reg_lambda=52.5; total time=  18.3s\n",
      "[CV] END gamma=0.1, learning_rate=0.55, n_estimators=125, reg_alpha=0.01, reg_lambda=53.0; total time=  17.2s\n",
      "[CV] END gamma=0.009, learning_rate=0.9, n_estimators=100, reg_alpha=0.001, reg_lambda=40.5; total time=  13.6s\n",
      "[CV] END gamma=1e-05, learning_rate=0.4, n_estimators=100, reg_alpha=0.01, reg_lambda=40.5; total time=  13.7s\n",
      "[CV] END gamma=0.009, learning_rate=0.55, n_estimators=100, reg_alpha=0.01, reg_lambda=30.5; total time=  13.9s\n",
      "[CV] END gamma=0.009, learning_rate=0.75, n_estimators=125, reg_alpha=0.09, reg_lambda=53; total time=  15.9s\n",
      "[CV] END gamma=0.3, learning_rate=0.45, n_estimators=120, reg_alpha=0.009, reg_lambda=51.0; total time=  16.6s\n",
      "[CV] END gamma=1e-05, learning_rate=0.7, n_estimators=120, reg_alpha=0.001, reg_lambda=52.0; total time=  16.1s\n",
      "[CV] END gamma=0.35, learning_rate=0.85, n_estimators=110, reg_alpha=0.0001, reg_lambda=52.5; total time=  15.1s\n",
      "[CV] END gamma=0.35, learning_rate=0.85, n_estimators=110, reg_alpha=0.0001, reg_lambda=52.5; total time=  14.6s\n",
      "[CV] END gamma=0.2, learning_rate=0.35, n_estimators=110, reg_alpha=0.001, reg_lambda=54.0; total time=  15.0s\n",
      "[CV] END gamma=0.01, learning_rate=0.35, n_estimators=125, reg_alpha=0.001, reg_lambda=40.5; total time=  15.8s\n",
      "[CV] END gamma=0.3, learning_rate=0.7, n_estimators=140, reg_alpha=0.01, reg_lambda=50.5; total time=  19.2s\n",
      "[CV] END gamma=0.001, learning_rate=0.8, n_estimators=110, reg_alpha=0.009, reg_lambda=53; total time=  14.1s\n",
      "[CV] END gamma=0.35, learning_rate=0.1, n_estimators=100, reg_alpha=0.001, reg_lambda=0.0; total time=  15.2s\n",
      "[CV] END gamma=0.0001, learning_rate=0.1, n_estimators=120, reg_alpha=0.01, reg_lambda=53.0; total time=  15.7s\n",
      "[CV] END gamma=0.009, learning_rate=0.5, n_estimators=120, reg_alpha=1e-05, reg_lambda=30.5; total time=  16.3s\n",
      "[CV] END gamma=0.009, learning_rate=0.1, n_estimators=120, reg_alpha=0.0001, reg_lambda=53.0; total time=  15.2s\n",
      "[CV] END gamma=0.35, learning_rate=0.1, n_estimators=120, reg_alpha=0.0001, reg_lambda=53.5; total time=  15.6s\n",
      "[CV] END gamma=0.3, learning_rate=0.4, n_estimators=135, reg_alpha=1e-05, reg_lambda=0.0; total time=  15.8s\n",
      "[CV] END gamma=0.009, learning_rate=0.35, n_estimators=110, reg_alpha=1e-05, reg_lambda=53.5; total time=  15.3s\n",
      "[CV] END gamma=0.3, learning_rate=0.35, n_estimators=140, reg_alpha=1e-05, reg_lambda=53; total time=  20.6s\n",
      "[CV] END gamma=0.0001, learning_rate=0.45, n_estimators=135, reg_alpha=0.0001, reg_lambda=51.5; total time=  19.0s\n",
      "[CV] END gamma=0.3, learning_rate=0.5, n_estimators=145, reg_alpha=0.0001, reg_lambda=53.0; total time=  19.2s\n",
      "[CV] END gamma=0.1, learning_rate=0.6, n_estimators=110, reg_alpha=0.0001, reg_lambda=51.5; total time=  14.1s\n",
      "[CV] END gamma=0.33, learning_rate=0.45, n_estimators=110, reg_alpha=0.009, reg_lambda=53.5; total time=  15.2s\n",
      "[CV] END gamma=0.35, learning_rate=0.6, n_estimators=145, reg_alpha=0.01, reg_lambda=53.0; total time=  18.2s\n",
      "[CV] END gamma=0.0001, learning_rate=0.4, n_estimators=130, reg_alpha=0.09, reg_lambda=51.5; total time=  16.9s\n",
      "[CV] END gamma=1e-05, learning_rate=0.1, n_estimators=100, reg_alpha=0.1, reg_lambda=0.0; total time=  12.4s\n",
      "[CV] END gamma=0.3, learning_rate=0.85, n_estimators=130, reg_alpha=0.09, reg_lambda=54.0; total time=  16.6s\n",
      "[CV] END gamma=0.1, learning_rate=0.7, n_estimators=100, reg_alpha=0.01, reg_lambda=53.0; total time=  13.3s\n",
      "[CV] END gamma=0.35, learning_rate=0.4, n_estimators=110, reg_alpha=0.0001, reg_lambda=52.5; total time=  14.4s\n",
      "[CV] END gamma=0.3, learning_rate=0.45, n_estimators=130, reg_alpha=0.009, reg_lambda=40.5; total time=  16.3s\n",
      "[CV] END gamma=0.001, learning_rate=0.66, n_estimators=120, reg_alpha=1e-05, reg_lambda=51.0; total time=  15.8s\n",
      "[CV] END gamma=0.09, learning_rate=0.4, n_estimators=135, reg_alpha=0.1, reg_lambda=30.5; total time=  17.9s\n",
      "[CV] END gamma=0.35, learning_rate=0.6, n_estimators=145, reg_alpha=0.009, reg_lambda=53.0; total time=  19.8s\n",
      "[CV] END gamma=0.01, learning_rate=0.85, n_estimators=120, reg_alpha=0.09, reg_lambda=40.0; total time=  16.3s\n",
      "[CV] END gamma=0.2, learning_rate=0.8, n_estimators=125, reg_alpha=0.09, reg_lambda=40.0; total time=  16.4s\n",
      "[CV] END gamma=0.3, learning_rate=0.55, n_estimators=125, reg_alpha=0.01, reg_lambda=52.0; total time=  15.6s\n",
      "[CV] END gamma=0.2, learning_rate=0.6, n_estimators=145, reg_alpha=0.0001, reg_lambda=53; total time=  19.7s\n",
      "[CV] END gamma=0.001, learning_rate=0.35, n_estimators=135, reg_alpha=0.09, reg_lambda=53; total time=  17.3s\n",
      "[CV] END gamma=0.35, learning_rate=0.45, n_estimators=100, reg_alpha=0.0001, reg_lambda=52.5; total time=  15.7s\n",
      "[CV] END gamma=0.35, learning_rate=0.55, n_estimators=125, reg_alpha=0.1, reg_lambda=0.0; total time= 4.2min\n",
      "[CV] END gamma=0.09, learning_rate=0.7, n_estimators=140, reg_alpha=0.001, reg_lambda=52.0; total time=  21.5s\n",
      "[CV] END gamma=0.0001, learning_rate=0.35, n_estimators=120, reg_alpha=0.01, reg_lambda=52.0; total time=  18.5s\n",
      "[CV] END gamma=0.1, learning_rate=0.85, n_estimators=140, reg_alpha=0.09, reg_lambda=53.5; total time=  19.5s\n",
      "[CV] END gamma=0.3, learning_rate=0.75, n_estimators=125, reg_alpha=0.1, reg_lambda=54.0; total time=  17.9s\n",
      "[CV] END gamma=0.009, learning_rate=0.1, n_estimators=110, reg_alpha=0.009, reg_lambda=52.5; total time=  14.5s\n",
      "[CV] END gamma=0.01, learning_rate=0.9, n_estimators=145, reg_alpha=0.001, reg_lambda=40.5; total time=  19.3s\n",
      "[CV] END gamma=0.2, learning_rate=0.8, n_estimators=130, reg_alpha=1e-05, reg_lambda=40.0; total time=  19.0s\n",
      "[CV] END gamma=0.01, learning_rate=0.6, n_estimators=140, reg_alpha=0.001, reg_lambda=40.5; total time=  18.7s\n",
      "[CV] END gamma=0.0001, learning_rate=0.45, n_estimators=140, reg_alpha=0.09, reg_lambda=50.5; total time=  18.9s\n",
      "[CV] END gamma=0.1, learning_rate=0.5, n_estimators=125, reg_alpha=0.009, reg_lambda=51.5; total time=  16.9s\n",
      "[CV] END gamma=0.2, learning_rate=0.75, n_estimators=130, reg_alpha=0.0001, reg_lambda=53.0; total time=  32.0s\n",
      "[CV] END gamma=1e-05, learning_rate=0.4, n_estimators=125, reg_alpha=0.0001, reg_lambda=40.5; total time=  17.7s\n",
      "[CV] END gamma=0.09, learning_rate=0.9, n_estimators=120, reg_alpha=0.009, reg_lambda=50.5; total time=  21.6s\n",
      "[CV] END gamma=0.2, learning_rate=0.66, n_estimators=120, reg_alpha=0.009, reg_lambda=52.5; total time=  24.2s\n",
      "[CV] END gamma=0.001, learning_rate=0.6, n_estimators=145, reg_alpha=0.01, reg_lambda=50.5; total time=  24.6s\n",
      "[CV] END gamma=0.3, learning_rate=0.85, n_estimators=135, reg_alpha=0.009, reg_lambda=0.0; total time=  18.5s\n",
      "[CV] END gamma=0.35, learning_rate=0.8, n_estimators=135, reg_alpha=0.009, reg_lambda=40.0; total time=  18.8s\n",
      "[CV] END gamma=0.2, learning_rate=0.45, n_estimators=110, reg_alpha=0.009, reg_lambda=51.5; total time=  19.9s\n",
      "[CV] END gamma=0.0001, learning_rate=0.5, n_estimators=135, reg_alpha=0.009, reg_lambda=0.0; total time=  20.0s\n",
      "[CV] END gamma=0.009, learning_rate=0.8, n_estimators=130, reg_alpha=1e-05, reg_lambda=0.0; total time=  19.3s\n",
      "[CV] END gamma=0.2, learning_rate=0.45, n_estimators=110, reg_alpha=0.1, reg_lambda=0.0; total time=  14.2s\n",
      "[CV] END gamma=1e-05, learning_rate=0.9, n_estimators=140, reg_alpha=0.0001, reg_lambda=0.0; total time=  16.3s\n",
      "[CV] END gamma=0.1, learning_rate=0.35, n_estimators=120, reg_alpha=1e-05, reg_lambda=51.5; total time=  19.0s\n",
      "[CV] END gamma=0.09, learning_rate=0.6, n_estimators=120, reg_alpha=0.09, reg_lambda=52.0; total time=  20.1s\n",
      "[CV] END gamma=0.009, learning_rate=0.66, n_estimators=100, reg_alpha=0.09, reg_lambda=53.5; total time=   8.8s\n"
     ]
    }
   ],
   "source": [
    "XGB3=XGBClassifier(reg_lambda= 51.2, reg_alpha= 0.1, n_estimators=130, learning_rate=0.6, gamma=0.2)\n",
    "XGB3.fit(X_train, y_train)#training \n",
    "y_predict=XGB3.predict(X_test)#testing\n",
    "xg = accuracy_score(y_test,y_predict)\n",
    "xg"
   ]
  },
  {
   "cell_type": "code",
   "execution_count": null,
   "id": "9b644605",
   "metadata": {},
   "outputs": [],
   "source": []
  },
  {
   "cell_type": "code",
   "execution_count": 53,
   "id": "51520b05",
   "metadata": {},
   "outputs": [
    {
     "name": "stdout",
     "output_type": "stream",
     "text": [
      "Fitting 3 folds for each of 100 candidates, totalling 300 fits\n",
      "Best paramters: {'reg_lambda': 53, 'reg_alpha': 0.009, 'n_estimators': 130, 'learning_rate': 0.75, 'gamma': 0.1})\n"
     ]
    }
   ],
   "source": [
    "param_grid = {'gamma': [0.00001,0.0001,0.001,0.01,0.1,0.09,0.009,0.3,0.35,0.2,0.33],\n",
    "              'learning_rate': [0.35,0.4,0.45,0.5,0.55,0.6,0.66,0.7,0.75,0.8,0.85,0.9,0.10],\n",
    "              'n_estimators': [100,110,120,125,130,135,140,145],\n",
    "              'reg_alpha': [0.00001,0.0001,0.001,0.01,0.1,0.09,0.009],\n",
    "              'reg_lambda': [30.5,40.0,40.5,50.5,0.0,51.0,51.5,52.0,52.5,53,53.0,53.5,54.0]}\n",
    "\n",
    "XGB=XGBClassifier(random_state=42)\n",
    "rcv= RandomizedSearchCV(estimator=XGB, scoring='f1',param_distributions=param_grid, n_iter=100, cv=3, \n",
    "                               verbose=2, random_state=42, n_jobs=-1)\n",
    "rcv.fit(X_train, y_train)##training data on randomsearch cv\n",
    "cv_best_params = rcv.best_params_##it will give you best parameters \n",
    "print(f\"Best paramters: {cv_best_params})\")##printing  best parameters"
   ]
  },
  {
   "cell_type": "code",
   "execution_count": 54,
   "id": "f8094d7e",
   "metadata": {},
   "outputs": [
    {
     "data": {
      "text/plain": [
       "0.991590472965346"
      ]
     },
     "execution_count": 54,
     "metadata": {},
     "output_type": "execute_result"
    }
   ],
   "source": [
    "XGB2=XGBClassifier(reg_lambda=53 , reg_alpha= 0.009, n_estimators=130, learning_rate=0.75, gamma=0.1)\n",
    "XGB2.fit(X_train, y_train)#training \n",
    "y_predict=XGB2.predict(X_test)#testing\n",
    "xg = accuracy_score(y_test,y_predict)\n",
    "xg"
   ]
  },
  {
   "cell_type": "markdown",
   "id": "f99cad34",
   "metadata": {},
   "source": [
    "<div style=\"font-family: Calibri; font-size: 14pt; line-height: 1.5;\"\">\n",
    "\n",
    "- Almost all of the algorithms provide good accuracy. XGBoost is giving best accuracy score of 99.1%."
   ]
  },
  {
   "cell_type": "markdown",
   "id": "97581ab3",
   "metadata": {},
   "source": [
    "<span style=\"color:Green\">\n",
    "<span class=\"cm-header cm-header-2\">\n",
    "9. Reports on challenges faced"
   ]
  },
  {
   "cell_type": "markdown",
   "id": "84e3e234",
   "metadata": {},
   "source": [
    "<div style=\"font-family: Calibri; font-size: 14pt; line-height: 1.5;\"\">\n",
    "\n",
    "-  As this is subset of original walk run dataset, to predict walk run we require only acceleration data, gyroscope data may add advantage.\n",
    "-  we used multiple models to predict walkrun correctly.\n",
    "-  Not much challenges faced while handling this simple dataset."
   ]
  },
  {
   "cell_type": "markdown",
   "id": "ffe41ffd",
   "metadata": {},
   "source": [
    "<span style=\"color:Green\">\n",
    "<span class=\"cm-header cm-header-2\">\n",
    "10. Conclusion"
   ]
  },
  {
   "cell_type": "markdown",
   "id": "9f27523d",
   "metadata": {},
   "source": [
    "<div style=\"font-family: Calibri; font-size: 14pt; line-height: 1.5;\"\">\n",
    "                                                  \n",
    "*  The walk/run classification dataset was analysed using XGBoost, yielding impressive accuracy of 99.1%, respectively. This high level of precision indicates that the model excels at distinguishing between walking and running activities.\n",
    "\n",
    "*  Such precision has important practical applications in a variety of fields, including sports science, fitness tracking, and healthcare. Furthermore, the success of this model demonstrates the effectiveness of XGBoost in handling classification tasks as well as the significance of proper feature engineering in achieving high accuracy.\n",
    "*  This suggests that the model could be useful in applications where real-time classification of walk and run activities is needed, such as in fitness tracking or health monitoring."
   ]
  }
 ],
 "metadata": {
  "kernelspec": {
   "display_name": "Python 3 (ipykernel)",
   "language": "python",
   "name": "python3"
  },
  "language_info": {
   "codemirror_mode": {
    "name": "ipython",
    "version": 3
   },
   "file_extension": ".py",
   "mimetype": "text/x-python",
   "name": "python",
   "nbconvert_exporter": "python",
   "pygments_lexer": "ipython3",
   "version": "3.9.12"
  }
 },
 "nbformat": 4,
 "nbformat_minor": 5
}
